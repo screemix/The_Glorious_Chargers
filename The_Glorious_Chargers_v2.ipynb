{
  "nbformat": 4,
  "nbformat_minor": 0,
  "metadata": {
    "colab": {
      "name": "The Glorious Chargers v2.ipynb",
      "provenance": [],
      "collapsed_sections": [],
      "toc_visible": true,
      "include_colab_link": true
    },
    "kernelspec": {
      "name": "python3",
      "display_name": "Python 3"
    }
  },
  "cells": [
    {
      "cell_type": "markdown",
      "metadata": {
        "id": "view-in-github",
        "colab_type": "text"
      },
      "source": [
        "<a href=\"https://colab.research.google.com/github/screemix/The_Glorious_Chargers/blob/main/The_Glorious_Chargers_v2.ipynb\" target=\"_parent\"><img src=\"https://colab.research.google.com/assets/colab-badge.svg\" alt=\"Open In Colab\"/></a>"
      ]
    },
    {
      "cell_type": "markdown",
      "metadata": {
        "id": "nffQn0KOTvqY"
      },
      "source": [
        "Import libraries"
      ]
    },
    {
      "cell_type": "code",
      "metadata": {
        "id": "mvKWVeGwF3B0"
      },
      "source": [
        "import sys\n",
        "import glob\n",
        "import os\n",
        "import io\n",
        "import pickle\n",
        "import statistics\n",
        "import math\n",
        "import pandas as pd\n",
        "import numpy as np\n",
        "\n",
        "import seaborn as sns\n",
        "\n",
        "from datetime import datetime\n",
        "from datetime import time\n",
        "from datetime import date, timedelta\n",
        "\n",
        "from dateutil.relativedelta import *\n",
        "\n",
        "import matplotlib.pyplot as plt\n",
        "import matplotlib.dates as mdates\n",
        "\n",
        "from pandas.plotting import autocorrelation_plot\n",
        "from pandas.plotting import lag_plot\n",
        "from pandas.plotting import register_matplotlib_converters\n",
        "register_matplotlib_converters()\n",
        "from pandas.tseries.offsets import *\n",
        "\n",
        "%matplotlib inline\n",
        "\n",
        "# pandas settings\n",
        "pd.set_option('display.max_columns', 500)\n",
        "pd.set_option('display.width', 1000)\n",
        "pd.set_option('display.max_rows', 500)"
      ],
      "execution_count": 411,
      "outputs": []
    },
    {
      "cell_type": "code",
      "metadata": {
        "id": "kt9yE3h7F5GU"
      },
      "source": [
        "from sklearn.model_selection import GridSearchCV, RandomizedSearchCV, train_test_split, cross_val_score, \\\n",
        "                                    ShuffleSplit, cross_val_predict, TimeSeriesSplit, ParameterSampler, PredefinedSplit\n",
        "from sklearn import metrics                                  \n",
        "from sklearn.preprocessing import StandardScaler, MaxAbsScaler, PolynomialFeatures, LabelEncoder, OneHotEncoder, LabelBinarizer\n",
        "from sklearn.metrics import r2_score,  mean_squared_error, accuracy_score, mean_absolute_error, median_absolute_error, make_scorer\n",
        "from sklearn.tree import DecisionTreeClassifier\n",
        "from sklearn.ensemble import GradientBoostingClassifier, RandomForestClassifier\n",
        "from sklearn.feature_selection import RFE, RFECV, SelectFromModel\n",
        "\n",
        "import xgboost as xgb\n",
        "from xgboost import plot_importance"
      ],
      "execution_count": 412,
      "outputs": []
    },
    {
      "cell_type": "code",
      "metadata": {
        "id": "_zTCXN7FF63W"
      },
      "source": [
        "# pip install fsspec"
      ],
      "execution_count": 413,
      "outputs": []
    },
    {
      "cell_type": "code",
      "metadata": {
        "id": "ex34jff6KrgY",
        "outputId": "6fe65564-c5d3-47bd-d2a6-02eef111e598",
        "colab": {
          "base_uri": "https://localhost:8080/",
          "height": 35
        }
      },
      "source": [
        "from google.colab import drive\n",
        "drive.mount('/content/drive')"
      ],
      "execution_count": 414,
      "outputs": [
        {
          "output_type": "stream",
          "text": [
            "Drive already mounted at /content/drive; to attempt to forcibly remount, call drive.mount(\"/content/drive\", force_remount=True).\n"
          ],
          "name": "stdout"
        }
      ]
    },
    {
      "cell_type": "markdown",
      "metadata": {
        "id": "4oDWuRg4GbKn"
      },
      "source": [
        "Data upload"
      ]
    },
    {
      "cell_type": "code",
      "metadata": {
        "id": "lyYX77OySojW",
        "outputId": "537dd834-4942-4dda-f0cd-20708f684943",
        "colab": {
          "base_uri": "https://localhost:8080/",
          "height": 226
        }
      },
      "source": [
        "train_v2 = pd.read_csv('./drive/My Drive/Colab Notebooks/NGWL The Glorious Chargers/01_preprocessed_data/train_v21.csv')\n",
        "submission_features = pd.read_csv('./drive/My Drive/Colab Notebooks/NGWL The Glorious Chargers/01_preprocessed_data/submission_features.csv')\n",
        "#submission_features = submission_features.drop(['gender',\t'age'], axis = 1)\n",
        "submission_features.head()\n"
      ],
      "execution_count": 415,
      "outputs": [
        {
          "output_type": "execute_result",
          "data": {
            "text/html": [
              "<div>\n",
              "<style scoped>\n",
              "    .dataframe tbody tr th:only-of-type {\n",
              "        vertical-align: middle;\n",
              "    }\n",
              "\n",
              "    .dataframe tbody tr th {\n",
              "        vertical-align: top;\n",
              "    }\n",
              "\n",
              "    .dataframe thead th {\n",
              "        text-align: right;\n",
              "    }\n",
              "</style>\n",
              "<table border=\"1\" class=\"dataframe\">\n",
              "  <thead>\n",
              "    <tr style=\"text-align: right;\">\n",
              "      <th></th>\n",
              "      <th>Id</th>\n",
              "      <th>months_with_order</th>\n",
              "      <th>months_without_order</th>\n",
              "      <th>last_order_month</th>\n",
              "      <th>first_order_month</th>\n",
              "      <th>gender</th>\n",
              "      <th>age</th>\n",
              "      <th>n_orders_complete</th>\n",
              "      <th>n_orders_canceled</th>\n",
              "      <th>avg_check</th>\n",
              "      <th>max_check</th>\n",
              "      <th>sum_spent</th>\n",
              "      <th>last_check</th>\n",
              "      <th>max_rate</th>\n",
              "      <th>was_rate_1</th>\n",
              "      <th>last_rate</th>\n",
              "      <th>n_orders_complete_last_month</th>\n",
              "      <th>max_duration</th>\n",
              "      <th>avg_duration</th>\n",
              "      <th>frequency</th>\n",
              "    </tr>\n",
              "  </thead>\n",
              "  <tbody>\n",
              "    <tr>\n",
              "      <th>0</th>\n",
              "      <td>19843</td>\n",
              "      <td>2</td>\n",
              "      <td>5</td>\n",
              "      <td>7</td>\n",
              "      <td>0</td>\n",
              "      <td>Third</td>\n",
              "      <td>31.0</td>\n",
              "      <td>2</td>\n",
              "      <td>6</td>\n",
              "      <td>49.00</td>\n",
              "      <td>98.0</td>\n",
              "      <td>98.0</td>\n",
              "      <td>98.0</td>\n",
              "      <td>5</td>\n",
              "      <td>0</td>\n",
              "      <td>5</td>\n",
              "      <td>1</td>\n",
              "      <td>66.766667</td>\n",
              "      <td>22.975000</td>\n",
              "      <td>0.250000</td>\n",
              "    </tr>\n",
              "    <tr>\n",
              "      <th>1</th>\n",
              "      <td>471287</td>\n",
              "      <td>1</td>\n",
              "      <td>0</td>\n",
              "      <td>7</td>\n",
              "      <td>7</td>\n",
              "      <td>Third</td>\n",
              "      <td>31.0</td>\n",
              "      <td>1</td>\n",
              "      <td>0</td>\n",
              "      <td>199.00</td>\n",
              "      <td>199.0</td>\n",
              "      <td>199.0</td>\n",
              "      <td>199.0</td>\n",
              "      <td>5</td>\n",
              "      <td>0</td>\n",
              "      <td>5</td>\n",
              "      <td>1</td>\n",
              "      <td>5.733333</td>\n",
              "      <td>5.733333</td>\n",
              "      <td>1.000000</td>\n",
              "    </tr>\n",
              "    <tr>\n",
              "      <th>2</th>\n",
              "      <td>342522</td>\n",
              "      <td>1</td>\n",
              "      <td>6</td>\n",
              "      <td>6</td>\n",
              "      <td>0</td>\n",
              "      <td>Third</td>\n",
              "      <td>31.0</td>\n",
              "      <td>2</td>\n",
              "      <td>0</td>\n",
              "      <td>178.50</td>\n",
              "      <td>199.0</td>\n",
              "      <td>357.0</td>\n",
              "      <td>199.0</td>\n",
              "      <td>0</td>\n",
              "      <td>0</td>\n",
              "      <td>0</td>\n",
              "      <td>1</td>\n",
              "      <td>124.783333</td>\n",
              "      <td>110.233333</td>\n",
              "      <td>0.285714</td>\n",
              "    </tr>\n",
              "    <tr>\n",
              "      <th>3</th>\n",
              "      <td>457799</td>\n",
              "      <td>1</td>\n",
              "      <td>0</td>\n",
              "      <td>7</td>\n",
              "      <td>7</td>\n",
              "      <td>Third</td>\n",
              "      <td>31.0</td>\n",
              "      <td>3</td>\n",
              "      <td>0</td>\n",
              "      <td>112.00</td>\n",
              "      <td>158.0</td>\n",
              "      <td>336.0</td>\n",
              "      <td>80.0</td>\n",
              "      <td>5</td>\n",
              "      <td>0</td>\n",
              "      <td>5</td>\n",
              "      <td>2</td>\n",
              "      <td>42.450000</td>\n",
              "      <td>16.533333</td>\n",
              "      <td>3.000000</td>\n",
              "    </tr>\n",
              "    <tr>\n",
              "      <th>4</th>\n",
              "      <td>233778</td>\n",
              "      <td>2</td>\n",
              "      <td>1</td>\n",
              "      <td>7</td>\n",
              "      <td>0</td>\n",
              "      <td>Third</td>\n",
              "      <td>31.0</td>\n",
              "      <td>4</td>\n",
              "      <td>0</td>\n",
              "      <td>149.25</td>\n",
              "      <td>199.0</td>\n",
              "      <td>597.0</td>\n",
              "      <td>0.0</td>\n",
              "      <td>0</td>\n",
              "      <td>0</td>\n",
              "      <td>0</td>\n",
              "      <td>2</td>\n",
              "      <td>69.166667</td>\n",
              "      <td>43.325000</td>\n",
              "      <td>0.500000</td>\n",
              "    </tr>\n",
              "  </tbody>\n",
              "</table>\n",
              "</div>"
            ],
            "text/plain": [
              "       Id  months_with_order  months_without_order  last_order_month  first_order_month gender   age  n_orders_complete  n_orders_canceled  avg_check  max_check  sum_spent  last_check  max_rate  was_rate_1  last_rate  n_orders_complete_last_month  max_duration  avg_duration  frequency\n",
              "0   19843                  2                     5                 7                  0  Third  31.0                  2                  6      49.00       98.0       98.0        98.0         5           0          5                             1     66.766667     22.975000   0.250000\n",
              "1  471287                  1                     0                 7                  7  Third  31.0                  1                  0     199.00      199.0      199.0       199.0         5           0          5                             1      5.733333      5.733333   1.000000\n",
              "2  342522                  1                     6                 6                  0  Third  31.0                  2                  0     178.50      199.0      357.0       199.0         0           0          0                             1    124.783333    110.233333   0.285714\n",
              "3  457799                  1                     0                 7                  7  Third  31.0                  3                  0     112.00      158.0      336.0        80.0         5           0          5                             2     42.450000     16.533333   3.000000\n",
              "4  233778                  2                     1                 7                  0  Third  31.0                  4                  0     149.25      199.0      597.0         0.0         0           0          0                             2     69.166667     43.325000   0.500000"
            ]
          },
          "metadata": {
            "tags": []
          },
          "execution_count": 415
        }
      ]
    },
    {
      "cell_type": "code",
      "metadata": {
        "id": "K7jtri00JxNd",
        "outputId": "ef101947-657b-4bc3-a495-6b12ff143a3c",
        "colab": {
          "base_uri": "https://localhost:8080/",
          "height": 226
        }
      },
      "source": [
        "ids_no_train_data =  submission_features['Id']\n",
        "submission_features.head()"
      ],
      "execution_count": 416,
      "outputs": [
        {
          "output_type": "execute_result",
          "data": {
            "text/html": [
              "<div>\n",
              "<style scoped>\n",
              "    .dataframe tbody tr th:only-of-type {\n",
              "        vertical-align: middle;\n",
              "    }\n",
              "\n",
              "    .dataframe tbody tr th {\n",
              "        vertical-align: top;\n",
              "    }\n",
              "\n",
              "    .dataframe thead th {\n",
              "        text-align: right;\n",
              "    }\n",
              "</style>\n",
              "<table border=\"1\" class=\"dataframe\">\n",
              "  <thead>\n",
              "    <tr style=\"text-align: right;\">\n",
              "      <th></th>\n",
              "      <th>Id</th>\n",
              "      <th>months_with_order</th>\n",
              "      <th>months_without_order</th>\n",
              "      <th>last_order_month</th>\n",
              "      <th>first_order_month</th>\n",
              "      <th>gender</th>\n",
              "      <th>age</th>\n",
              "      <th>n_orders_complete</th>\n",
              "      <th>n_orders_canceled</th>\n",
              "      <th>avg_check</th>\n",
              "      <th>max_check</th>\n",
              "      <th>sum_spent</th>\n",
              "      <th>last_check</th>\n",
              "      <th>max_rate</th>\n",
              "      <th>was_rate_1</th>\n",
              "      <th>last_rate</th>\n",
              "      <th>n_orders_complete_last_month</th>\n",
              "      <th>max_duration</th>\n",
              "      <th>avg_duration</th>\n",
              "      <th>frequency</th>\n",
              "    </tr>\n",
              "  </thead>\n",
              "  <tbody>\n",
              "    <tr>\n",
              "      <th>0</th>\n",
              "      <td>19843</td>\n",
              "      <td>2</td>\n",
              "      <td>5</td>\n",
              "      <td>7</td>\n",
              "      <td>0</td>\n",
              "      <td>Third</td>\n",
              "      <td>31.0</td>\n",
              "      <td>2</td>\n",
              "      <td>6</td>\n",
              "      <td>49.00</td>\n",
              "      <td>98.0</td>\n",
              "      <td>98.0</td>\n",
              "      <td>98.0</td>\n",
              "      <td>5</td>\n",
              "      <td>0</td>\n",
              "      <td>5</td>\n",
              "      <td>1</td>\n",
              "      <td>66.766667</td>\n",
              "      <td>22.975000</td>\n",
              "      <td>0.250000</td>\n",
              "    </tr>\n",
              "    <tr>\n",
              "      <th>1</th>\n",
              "      <td>471287</td>\n",
              "      <td>1</td>\n",
              "      <td>0</td>\n",
              "      <td>7</td>\n",
              "      <td>7</td>\n",
              "      <td>Third</td>\n",
              "      <td>31.0</td>\n",
              "      <td>1</td>\n",
              "      <td>0</td>\n",
              "      <td>199.00</td>\n",
              "      <td>199.0</td>\n",
              "      <td>199.0</td>\n",
              "      <td>199.0</td>\n",
              "      <td>5</td>\n",
              "      <td>0</td>\n",
              "      <td>5</td>\n",
              "      <td>1</td>\n",
              "      <td>5.733333</td>\n",
              "      <td>5.733333</td>\n",
              "      <td>1.000000</td>\n",
              "    </tr>\n",
              "    <tr>\n",
              "      <th>2</th>\n",
              "      <td>342522</td>\n",
              "      <td>1</td>\n",
              "      <td>6</td>\n",
              "      <td>6</td>\n",
              "      <td>0</td>\n",
              "      <td>Third</td>\n",
              "      <td>31.0</td>\n",
              "      <td>2</td>\n",
              "      <td>0</td>\n",
              "      <td>178.50</td>\n",
              "      <td>199.0</td>\n",
              "      <td>357.0</td>\n",
              "      <td>199.0</td>\n",
              "      <td>0</td>\n",
              "      <td>0</td>\n",
              "      <td>0</td>\n",
              "      <td>1</td>\n",
              "      <td>124.783333</td>\n",
              "      <td>110.233333</td>\n",
              "      <td>0.285714</td>\n",
              "    </tr>\n",
              "    <tr>\n",
              "      <th>3</th>\n",
              "      <td>457799</td>\n",
              "      <td>1</td>\n",
              "      <td>0</td>\n",
              "      <td>7</td>\n",
              "      <td>7</td>\n",
              "      <td>Third</td>\n",
              "      <td>31.0</td>\n",
              "      <td>3</td>\n",
              "      <td>0</td>\n",
              "      <td>112.00</td>\n",
              "      <td>158.0</td>\n",
              "      <td>336.0</td>\n",
              "      <td>80.0</td>\n",
              "      <td>5</td>\n",
              "      <td>0</td>\n",
              "      <td>5</td>\n",
              "      <td>2</td>\n",
              "      <td>42.450000</td>\n",
              "      <td>16.533333</td>\n",
              "      <td>3.000000</td>\n",
              "    </tr>\n",
              "    <tr>\n",
              "      <th>4</th>\n",
              "      <td>233778</td>\n",
              "      <td>2</td>\n",
              "      <td>1</td>\n",
              "      <td>7</td>\n",
              "      <td>0</td>\n",
              "      <td>Third</td>\n",
              "      <td>31.0</td>\n",
              "      <td>4</td>\n",
              "      <td>0</td>\n",
              "      <td>149.25</td>\n",
              "      <td>199.0</td>\n",
              "      <td>597.0</td>\n",
              "      <td>0.0</td>\n",
              "      <td>0</td>\n",
              "      <td>0</td>\n",
              "      <td>0</td>\n",
              "      <td>2</td>\n",
              "      <td>69.166667</td>\n",
              "      <td>43.325000</td>\n",
              "      <td>0.500000</td>\n",
              "    </tr>\n",
              "  </tbody>\n",
              "</table>\n",
              "</div>"
            ],
            "text/plain": [
              "       Id  months_with_order  months_without_order  last_order_month  first_order_month gender   age  n_orders_complete  n_orders_canceled  avg_check  max_check  sum_spent  last_check  max_rate  was_rate_1  last_rate  n_orders_complete_last_month  max_duration  avg_duration  frequency\n",
              "0   19843                  2                     5                 7                  0  Third  31.0                  2                  6      49.00       98.0       98.0        98.0         5           0          5                             1     66.766667     22.975000   0.250000\n",
              "1  471287                  1                     0                 7                  7  Third  31.0                  1                  0     199.00      199.0      199.0       199.0         5           0          5                             1      5.733333      5.733333   1.000000\n",
              "2  342522                  1                     6                 6                  0  Third  31.0                  2                  0     178.50      199.0      357.0       199.0         0           0          0                             1    124.783333    110.233333   0.285714\n",
              "3  457799                  1                     0                 7                  7  Third  31.0                  3                  0     112.00      158.0      336.0        80.0         5           0          5                             2     42.450000     16.533333   3.000000\n",
              "4  233778                  2                     1                 7                  0  Third  31.0                  4                  0     149.25      199.0      597.0         0.0         0           0          0                             2     69.166667     43.325000   0.500000"
            ]
          },
          "metadata": {
            "tags": []
          },
          "execution_count": 416
        }
      ]
    },
    {
      "cell_type": "code",
      "metadata": {
        "id": "f22YmE-9y5Rl"
      },
      "source": [
        "split =  pd.read_csv( './drive/My Drive/Colab Notebooks/NGWL The Glorious Chargers/01_preprocessed_data/phone_id_dataset_mapping.csv')"
      ],
      "execution_count": 417,
      "outputs": []
    },
    {
      "cell_type": "code",
      "metadata": {
        "id": "5BdbXd0hRmU3",
        "outputId": "c8bc8a12-33a8-40c2-c477-0a29241ee775",
        "colab": {
          "base_uri": "https://localhost:8080/",
          "height": 226
        }
      },
      "source": [
        "submission_features.head()"
      ],
      "execution_count": 418,
      "outputs": [
        {
          "output_type": "execute_result",
          "data": {
            "text/html": [
              "<div>\n",
              "<style scoped>\n",
              "    .dataframe tbody tr th:only-of-type {\n",
              "        vertical-align: middle;\n",
              "    }\n",
              "\n",
              "    .dataframe tbody tr th {\n",
              "        vertical-align: top;\n",
              "    }\n",
              "\n",
              "    .dataframe thead th {\n",
              "        text-align: right;\n",
              "    }\n",
              "</style>\n",
              "<table border=\"1\" class=\"dataframe\">\n",
              "  <thead>\n",
              "    <tr style=\"text-align: right;\">\n",
              "      <th></th>\n",
              "      <th>Id</th>\n",
              "      <th>months_with_order</th>\n",
              "      <th>months_without_order</th>\n",
              "      <th>last_order_month</th>\n",
              "      <th>first_order_month</th>\n",
              "      <th>gender</th>\n",
              "      <th>age</th>\n",
              "      <th>n_orders_complete</th>\n",
              "      <th>n_orders_canceled</th>\n",
              "      <th>avg_check</th>\n",
              "      <th>max_check</th>\n",
              "      <th>sum_spent</th>\n",
              "      <th>last_check</th>\n",
              "      <th>max_rate</th>\n",
              "      <th>was_rate_1</th>\n",
              "      <th>last_rate</th>\n",
              "      <th>n_orders_complete_last_month</th>\n",
              "      <th>max_duration</th>\n",
              "      <th>avg_duration</th>\n",
              "      <th>frequency</th>\n",
              "    </tr>\n",
              "  </thead>\n",
              "  <tbody>\n",
              "    <tr>\n",
              "      <th>0</th>\n",
              "      <td>19843</td>\n",
              "      <td>2</td>\n",
              "      <td>5</td>\n",
              "      <td>7</td>\n",
              "      <td>0</td>\n",
              "      <td>Third</td>\n",
              "      <td>31.0</td>\n",
              "      <td>2</td>\n",
              "      <td>6</td>\n",
              "      <td>49.00</td>\n",
              "      <td>98.0</td>\n",
              "      <td>98.0</td>\n",
              "      <td>98.0</td>\n",
              "      <td>5</td>\n",
              "      <td>0</td>\n",
              "      <td>5</td>\n",
              "      <td>1</td>\n",
              "      <td>66.766667</td>\n",
              "      <td>22.975000</td>\n",
              "      <td>0.250000</td>\n",
              "    </tr>\n",
              "    <tr>\n",
              "      <th>1</th>\n",
              "      <td>471287</td>\n",
              "      <td>1</td>\n",
              "      <td>0</td>\n",
              "      <td>7</td>\n",
              "      <td>7</td>\n",
              "      <td>Third</td>\n",
              "      <td>31.0</td>\n",
              "      <td>1</td>\n",
              "      <td>0</td>\n",
              "      <td>199.00</td>\n",
              "      <td>199.0</td>\n",
              "      <td>199.0</td>\n",
              "      <td>199.0</td>\n",
              "      <td>5</td>\n",
              "      <td>0</td>\n",
              "      <td>5</td>\n",
              "      <td>1</td>\n",
              "      <td>5.733333</td>\n",
              "      <td>5.733333</td>\n",
              "      <td>1.000000</td>\n",
              "    </tr>\n",
              "    <tr>\n",
              "      <th>2</th>\n",
              "      <td>342522</td>\n",
              "      <td>1</td>\n",
              "      <td>6</td>\n",
              "      <td>6</td>\n",
              "      <td>0</td>\n",
              "      <td>Third</td>\n",
              "      <td>31.0</td>\n",
              "      <td>2</td>\n",
              "      <td>0</td>\n",
              "      <td>178.50</td>\n",
              "      <td>199.0</td>\n",
              "      <td>357.0</td>\n",
              "      <td>199.0</td>\n",
              "      <td>0</td>\n",
              "      <td>0</td>\n",
              "      <td>0</td>\n",
              "      <td>1</td>\n",
              "      <td>124.783333</td>\n",
              "      <td>110.233333</td>\n",
              "      <td>0.285714</td>\n",
              "    </tr>\n",
              "    <tr>\n",
              "      <th>3</th>\n",
              "      <td>457799</td>\n",
              "      <td>1</td>\n",
              "      <td>0</td>\n",
              "      <td>7</td>\n",
              "      <td>7</td>\n",
              "      <td>Third</td>\n",
              "      <td>31.0</td>\n",
              "      <td>3</td>\n",
              "      <td>0</td>\n",
              "      <td>112.00</td>\n",
              "      <td>158.0</td>\n",
              "      <td>336.0</td>\n",
              "      <td>80.0</td>\n",
              "      <td>5</td>\n",
              "      <td>0</td>\n",
              "      <td>5</td>\n",
              "      <td>2</td>\n",
              "      <td>42.450000</td>\n",
              "      <td>16.533333</td>\n",
              "      <td>3.000000</td>\n",
              "    </tr>\n",
              "    <tr>\n",
              "      <th>4</th>\n",
              "      <td>233778</td>\n",
              "      <td>2</td>\n",
              "      <td>1</td>\n",
              "      <td>7</td>\n",
              "      <td>0</td>\n",
              "      <td>Third</td>\n",
              "      <td>31.0</td>\n",
              "      <td>4</td>\n",
              "      <td>0</td>\n",
              "      <td>149.25</td>\n",
              "      <td>199.0</td>\n",
              "      <td>597.0</td>\n",
              "      <td>0.0</td>\n",
              "      <td>0</td>\n",
              "      <td>0</td>\n",
              "      <td>0</td>\n",
              "      <td>2</td>\n",
              "      <td>69.166667</td>\n",
              "      <td>43.325000</td>\n",
              "      <td>0.500000</td>\n",
              "    </tr>\n",
              "  </tbody>\n",
              "</table>\n",
              "</div>"
            ],
            "text/plain": [
              "       Id  months_with_order  months_without_order  last_order_month  first_order_month gender   age  n_orders_complete  n_orders_canceled  avg_check  max_check  sum_spent  last_check  max_rate  was_rate_1  last_rate  n_orders_complete_last_month  max_duration  avg_duration  frequency\n",
              "0   19843                  2                     5                 7                  0  Third  31.0                  2                  6      49.00       98.0       98.0        98.0         5           0          5                             1     66.766667     22.975000   0.250000\n",
              "1  471287                  1                     0                 7                  7  Third  31.0                  1                  0     199.00      199.0      199.0       199.0         5           0          5                             1      5.733333      5.733333   1.000000\n",
              "2  342522                  1                     6                 6                  0  Third  31.0                  2                  0     178.50      199.0      357.0       199.0         0           0          0                             1    124.783333    110.233333   0.285714\n",
              "3  457799                  1                     0                 7                  7  Third  31.0                  3                  0     112.00      158.0      336.0        80.0         5           0          5                             2     42.450000     16.533333   3.000000\n",
              "4  233778                  2                     1                 7                  0  Third  31.0                  4                  0     149.25      199.0      597.0         0.0         0           0          0                             2     69.166667     43.325000   0.500000"
            ]
          },
          "metadata": {
            "tags": []
          },
          "execution_count": 418
        }
      ]
    },
    {
      "cell_type": "code",
      "metadata": {
        "id": "TX_593DdzRFV"
      },
      "source": [
        "train_v2 = train_v2.merge(split , on='phone_id', how='left')"
      ],
      "execution_count": 419,
      "outputs": []
    },
    {
      "cell_type": "markdown",
      "metadata": {
        "id": "EzPjYARBBwvN"
      },
      "source": [
        "One-hot encoding for gender\n"
      ]
    },
    {
      "cell_type": "code",
      "metadata": {
        "id": "EumtCUCiE9wF"
      },
      "source": [
        "train_v2 = pd.concat([train_v2, pd.get_dummies(train_v2.gender, prefix='gender') ],axis=1)\n",
        "submission_features =  pd.concat([submission_features, pd.get_dummies(submission_features.gender, prefix='gender') ],axis=1)\n",
        "train_v2 = train_v2.drop(['gender'],axis=1)\n",
        "submission_features = submission_features.drop(['gender'],axis=1)\n"
      ],
      "execution_count": 420,
      "outputs": []
    },
    {
      "cell_type": "markdown",
      "metadata": {
        "id": "KY5wTEAjGZmH"
      },
      "source": [
        "Train-test split"
      ]
    },
    {
      "cell_type": "code",
      "metadata": {
        "id": "tmZl-26BGCY5"
      },
      "source": [
        "# target and dependent variable\n",
        "train_and_test_y = train_v2[['target', 'dataset_id' ]]\n",
        "train_and_test_X = train_v2.drop(['target', 'phone_id'], axis = 1)\n"
      ],
      "execution_count": 421,
      "outputs": []
    },
    {
      "cell_type": "code",
      "metadata": {
        "id": "5d0kz-k0Ogn0"
      },
      "source": [
        "train_X = train_and_test_X[train_and_test_X['dataset_id']  <= 2]\n",
        "test_X = train_and_test_X[train_and_test_X['dataset_id']  ==  2]\n",
        "train_y = train_and_test_y[train_and_test_y['dataset_id']  <= 2]\n",
        "test_y = train_and_test_y[train_and_test_y['dataset_id']  == 2]"
      ],
      "execution_count": 422,
      "outputs": []
    },
    {
      "cell_type": "code",
      "metadata": {
        "id": "IQ9uSKTFYzup"
      },
      "source": [
        "test_y = test_y.drop(['dataset_id'], axis = 1)\n",
        "train_y = train_y.drop(['dataset_id'], axis = 1)\n",
        "train_X = train_X.drop(['dataset_id'], axis = 1)\n",
        "test_X = test_X.drop(['dataset_id'], axis = 1)"
      ],
      "execution_count": 423,
      "outputs": []
    },
    {
      "cell_type": "code",
      "metadata": {
        "id": "t2jcgH4FereI"
      },
      "source": [
        "train_y = train_y['target']\n",
        "test_y = test_y['target']\n"
      ],
      "execution_count": 424,
      "outputs": []
    },
    {
      "cell_type": "markdown",
      "metadata": {
        "id": "wRuNMkojHC8e"
      },
      "source": [
        "Simple Models XGBoost"
      ]
    },
    {
      "cell_type": "code",
      "metadata": {
        "id": "10HbhAm-G_pr"
      },
      "source": [
        "xg = xgb.XGBClassifier(random_state=42, learning_rate=0.01 )"
      ],
      "execution_count": 425,
      "outputs": []
    },
    {
      "cell_type": "code",
      "metadata": {
        "id": "5wzGqxuLxCDd",
        "outputId": "a2eb36ec-b260-450c-92db-9ee028d0fdd5",
        "colab": {
          "base_uri": "https://localhost:8080/",
          "height": 69
        }
      },
      "source": [
        "train_X[train_X.isnull().any(axis=1)].head()"
      ],
      "execution_count": 426,
      "outputs": [
        {
          "output_type": "execute_result",
          "data": {
            "text/html": [
              "<div>\n",
              "<style scoped>\n",
              "    .dataframe tbody tr th:only-of-type {\n",
              "        vertical-align: middle;\n",
              "    }\n",
              "\n",
              "    .dataframe tbody tr th {\n",
              "        vertical-align: top;\n",
              "    }\n",
              "\n",
              "    .dataframe thead th {\n",
              "        text-align: right;\n",
              "    }\n",
              "</style>\n",
              "<table border=\"1\" class=\"dataframe\">\n",
              "  <thead>\n",
              "    <tr style=\"text-align: right;\">\n",
              "      <th></th>\n",
              "      <th>months_with_order</th>\n",
              "      <th>months_without_order</th>\n",
              "      <th>last_order_month</th>\n",
              "      <th>first_order_month</th>\n",
              "      <th>age</th>\n",
              "      <th>n_orders_complete</th>\n",
              "      <th>n_orders_canceled</th>\n",
              "      <th>avg_check</th>\n",
              "      <th>max_check</th>\n",
              "      <th>sum_spent</th>\n",
              "      <th>last_check</th>\n",
              "      <th>max_rate</th>\n",
              "      <th>was_rate_1</th>\n",
              "      <th>last_rate</th>\n",
              "      <th>n_orders_complete_last_month</th>\n",
              "      <th>max_duration</th>\n",
              "      <th>avg_duration</th>\n",
              "      <th>frequency</th>\n",
              "      <th>gender_Third</th>\n",
              "      <th>gender_female</th>\n",
              "      <th>gender_male</th>\n",
              "    </tr>\n",
              "  </thead>\n",
              "  <tbody>\n",
              "  </tbody>\n",
              "</table>\n",
              "</div>"
            ],
            "text/plain": [
              "Empty DataFrame\n",
              "Columns: [months_with_order, months_without_order, last_order_month, first_order_month, age, n_orders_complete, n_orders_canceled, avg_check, max_check, sum_spent, last_check, max_rate, was_rate_1, last_rate, n_orders_complete_last_month, max_duration, avg_duration, frequency, gender_Third, gender_female, gender_male]\n",
              "Index: []"
            ]
          },
          "metadata": {
            "tags": []
          },
          "execution_count": 426
        }
      ]
    },
    {
      "cell_type": "code",
      "metadata": {
        "id": "RLuDxG34lSof"
      },
      "source": [
        "# XGBoost"
      ],
      "execution_count": 427,
      "outputs": []
    },
    {
      "cell_type": "code",
      "metadata": {
        "id": "kYGed3hCDo2V"
      },
      "source": [
        "from sklearn.metrics import f1_score\n",
        "import numpy as np\n",
        "\n",
        "def f1_eval(y_pred, dtrain):\n",
        "    y_true = dtrain.get_label()\n",
        "    err = 1-f1_score(y_true, np.round(y_pred))\n",
        "    return 'f1_err', err"
      ],
      "execution_count": 428,
      "outputs": []
    },
    {
      "cell_type": "code",
      "metadata": {
        "id": "_jXpd2w_VVbz",
        "outputId": "9e7d3cc0-b67d-442f-d3ca-7f4783b532a5",
        "colab": {
          "base_uri": "https://localhost:8080/",
          "height": 146
        }
      },
      "source": [
        "xg.fit(train_X, train_y, eval_metric=f1_eval)"
      ],
      "execution_count": 429,
      "outputs": [
        {
          "output_type": "execute_result",
          "data": {
            "text/plain": [
              "XGBClassifier(base_score=0.5, booster='gbtree', colsample_bylevel=1,\n",
              "              colsample_bynode=1, colsample_bytree=1, gamma=0,\n",
              "              learning_rate=0.01, max_delta_step=0, max_depth=3,\n",
              "              min_child_weight=1, missing=None, n_estimators=100, n_jobs=1,\n",
              "              nthread=None, objective='binary:logistic', random_state=42,\n",
              "              reg_alpha=0, reg_lambda=1, scale_pos_weight=1, seed=None,\n",
              "              silent=None, subsample=1, verbosity=1)"
            ]
          },
          "metadata": {
            "tags": []
          },
          "execution_count": 429
        }
      ]
    },
    {
      "cell_type": "code",
      "metadata": {
        "id": "siVMvADDXxP3"
      },
      "source": [
        "score_train_XGB= xg.predict_proba(train_X)[:, 1]\n",
        "score_test_XGB =xg.predict_proba(test_X)[:, 1]"
      ],
      "execution_count": 430,
      "outputs": []
    },
    {
      "cell_type": "code",
      "metadata": {
        "id": "rdUTA7i4FzcC",
        "outputId": "f3b12045-2118-4c21-cbc4-00cf4210e27f",
        "colab": {
          "base_uri": "https://localhost:8080/",
          "height": 422
        }
      },
      "source": [
        "# F-score for XGboost, sums up how many times each feature is split on\n",
        "fig, ax = plt.subplots(figsize=(7, 6))\n",
        "plot_importance(xg, ax = ax, height=0.5,  max_num_features= 20)"
      ],
      "execution_count": 431,
      "outputs": [
        {
          "output_type": "execute_result",
          "data": {
            "text/plain": [
              "<matplotlib.axes._subplots.AxesSubplot at 0x7f7fca733d30>"
            ]
          },
          "metadata": {
            "tags": []
          },
          "execution_count": 431
        },
        {
          "output_type": "display_data",
          "data": {
            "image/png": "[encoded data removed]",
            "text/plain": [
              "<Figure size 504x432 with 1 Axes>"
            ]
          },
          "metadata": {
            "tags": [],
            "needs_background": "light"
          }
        }
      ]
    },
    {
      "cell_type": "code",
      "metadata": {
        "id": "yZ1UUM5WaZfP"
      },
      "source": [
        "threshold_XGB = 0.1"
      ],
      "execution_count": 432,
      "outputs": []
    },
    {
      "cell_type": "markdown",
      "metadata": {
        "id": "LKfU-x0gCv7_"
      },
      "source": [
        "# F1-score\n",
        "\n"
      ]
    },
    {
      "cell_type": "code",
      "metadata": {
        "id": "mWHsN7yVk97i",
        "outputId": "993f6734-b69f-4083-d9d6-3bc351fc51a3",
        "colab": {
          "base_uri": "https://localhost:8080/",
          "height": 35
        }
      },
      "source": [
        "metrics.f1_score(test_y, (score_test_XGB > threshold_XGB))"
      ],
      "execution_count": 433,
      "outputs": [
        {
          "output_type": "execute_result",
          "data": {
            "text/plain": [
              "0.811024214167544"
            ]
          },
          "metadata": {
            "tags": []
          },
          "execution_count": 433
        }
      ]
    },
    {
      "cell_type": "code",
      "metadata": {
        "id": "1pFU_EVLd-tk",
        "outputId": "2e9b81f6-8a38-498e-a087-a1f358d4674f",
        "colab": {
          "base_uri": "https://localhost:8080/",
          "height": 361
        }
      },
      "source": [
        "# Distribution of scores by class\n",
        "\n",
        "fig, ax = plt.subplots(ncols=2, figsize=(15, 5))\n",
        "\n",
        "(pd.DataFrame({'y': train_y, 'Training score': score_train_XGB})\n",
        " .boxplot(column='Training score', by='y',\n",
        "          showfliers=True, ax=ax[0]))\n",
        "plt.title('Training score')\n",
        "\n",
        "(pd.DataFrame({'y': test_y, 'Test score': score_test_XGB})\n",
        " .boxplot(column='Test score', by='y', showfliers=True, ax=ax[1]))\n",
        "plt.title('Test score')\n",
        "\n",
        "plt.suptitle('Distribution of scores by class')\n",
        "\n",
        "plt.show()"
      ],
      "execution_count": 434,
      "outputs": [
        {
          "output_type": "display_data",
          "data": {
            "image/png": "[encoded data removed]",
            "text/plain": [
              "<Figure size 1080x360 with 2 Axes>"
            ]
          },
          "metadata": {
            "tags": [],
            "needs_background": "light"
          }
        }
      ]
    },
    {
      "cell_type": "code",
      "metadata": {
        "id": "MrZDLAadeOsm",
        "outputId": "6198eeff-a252-4bf8-cb75-8f54e7f9c820",
        "colab": {
          "base_uri": "https://localhost:8080/",
          "height": 390
        }
      },
      "source": [
        "# ROC Curve\n",
        "fpr_train_XGB, tpr_train_XGB, thresholds_train_XGB = metrics.roc_curve(train_y, score_train_XGB, pos_label=1)\n",
        "fpr_test_XGB, tpr_test_XGB, thresholds_test_XGB = metrics.roc_curve(test_y, score_test_XGB, pos_label=1)\n",
        "\n",
        "fig = plt.figure(figsize=(10, 6))\n",
        "plt.plot(fpr_train_XGB, tpr_train_XGB, label='training data')\n",
        "plt.plot(fpr_test_XGB, tpr_test_XGB, label='test data')\n",
        "plt.legend()\n",
        "plt.title('ROC-curve for XGB')\n",
        "plt.show()"
      ],
      "execution_count": 435,
      "outputs": [
        {
          "output_type": "display_data",
          "data": {
            "image/png": "[encoded data removed]",
            "text/plain": [
              "<Figure size 720x432 with 1 Axes>"
            ]
          },
          "metadata": {
            "tags": [],
            "needs_background": "light"
          }
        }
      ]
    },
    {
      "cell_type": "code",
      "metadata": {
        "id": "IIpUPvolfpCK",
        "outputId": "521ffef3-6f5b-42e0-b6f6-147da104f4b3",
        "colab": {
          "base_uri": "https://localhost:8080/",
          "height": 109
        }
      },
      "source": [
        "# AUC and accuracy\n",
        "auc_train_XGB = metrics.roc_auc_score(train_y, score_train_XGB)\n",
        "accuracy_train_XGB = metrics.accuracy_score(train_y, (score_train_XGB > threshold_XGB))\n",
        "\n",
        "auc_test_XGB = metrics.roc_auc_score(test_y, score_test_XGB)\n",
        "accuracy_test_XGB = metrics.accuracy_score(test_y, (score_test_XGB > threshold_XGB))\n",
        "\n",
        "print('Training data:\\nAUC: {auc}\\tAccuracy: {acc}\\n'\n",
        "      .format(auc=auc_train_XGB, acc=accuracy_train_XGB))\n",
        "\n",
        "print('Test data:\\nAUC: {auc}\\tAccuracy: {acc}'\n",
        "      .format(auc=auc_test_XGB, acc=accuracy_test_XGB))"
      ],
      "execution_count": 436,
      "outputs": [
        {
          "output_type": "stream",
          "text": [
            "Training data:\n",
            "AUC: 0.8788031734999271\tAccuracy: 0.4257487643471388\n",
            "\n",
            "Test data:\n",
            "AUC: 0.7797346957619175\tAccuracy: 0.6821200430080324\n"
          ],
          "name": "stdout"
        }
      ]
    },
    {
      "cell_type": "markdown",
      "metadata": {
        "id": "oLp1BZ3pVepQ"
      },
      "source": [
        "Calculating prediction for the sample"
      ]
    },
    {
      "cell_type": "code",
      "metadata": {
        "id": "KD3Ph2lNVlKO"
      },
      "source": [
        "#sample = pd.read_csv(io.BytesIO(uploaded['sample_submission.csv']), sep=';')\n",
        "#sample.head()"
      ],
      "execution_count": 437,
      "outputs": []
    },
    {
      "cell_type": "markdown",
      "metadata": {
        "id": "G4R1PZCsDMxB"
      },
      "source": [
        "# Confusion matrix"
      ]
    },
    {
      "cell_type": "code",
      "metadata": {
        "id": "eSrhFUSxxbu5",
        "outputId": "c0240c4c-dfe8-46df-8bd0-b4d5a89da8c6",
        "colab": {
          "base_uri": "https://localhost:8080/",
          "height": 54
        }
      },
      "source": [
        "metrics.confusion_matrix(test_y, (score_test_XGB > threshold_XGB))"
      ],
      "execution_count": 438,
      "outputs": [
        {
          "output_type": "execute_result",
          "data": {
            "text/plain": [
              "array([[    0, 10052],\n",
              "       [    0, 21570]])"
            ]
          },
          "metadata": {
            "tags": []
          },
          "execution_count": 438
        }
      ]
    },
    {
      "cell_type": "code",
      "metadata": {
        "id": "eBOfPqaOoNwm"
      },
      "source": [
        ""
      ],
      "execution_count": 438,
      "outputs": []
    },
    {
      "cell_type": "markdown",
      "metadata": {
        "id": "2XaC-ScMI-zO"
      },
      "source": [
        "# Prediction"
      ]
    },
    {
      "cell_type": "code",
      "metadata": {
        "id": "Bc9KzJz-WSa7"
      },
      "source": [
        "ids_no_train_data =  submission_features[submission_features.isnull().any(axis=1)]['Id']\n",
        "submission_features_in_train = submission_features[~submission_features.isnull().any(axis=1)]\n"
      ],
      "execution_count": 439,
      "outputs": []
    },
    {
      "cell_type": "code",
      "metadata": {
        "id": "VQWdmsGDJBZl"
      },
      "source": [
        "ids_in_train_data = submission_features[submission_features['Id'].isin(train_v2['phone_id'])]"
      ],
      "execution_count": 440,
      "outputs": []
    },
    {
      "cell_type": "code",
      "metadata": {
        "id": "YB5Td7SjNxhD"
      },
      "source": [
        "submission_features_in_train = submission_features[submission_features['Id'].isin(train_v2['phone_id'])]"
      ],
      "execution_count": 441,
      "outputs": []
    },
    {
      "cell_type": "code",
      "metadata": {
        "id": "Ym_ChR6aLIZT",
        "outputId": "9cf517e5-f45f-43a3-83c0-c0e5e54d2d3e",
        "colab": {
          "base_uri": "https://localhost:8080/",
          "height": 444
        }
      },
      "source": [
        "submission_features_in_train"
      ],
      "execution_count": 442,
      "outputs": [
        {
          "output_type": "execute_result",
          "data": {
            "text/html": [
              "<div>\n",
              "<style scoped>\n",
              "    .dataframe tbody tr th:only-of-type {\n",
              "        vertical-align: middle;\n",
              "    }\n",
              "\n",
              "    .dataframe tbody tr th {\n",
              "        vertical-align: top;\n",
              "    }\n",
              "\n",
              "    .dataframe thead th {\n",
              "        text-align: right;\n",
              "    }\n",
              "</style>\n",
              "<table border=\"1\" class=\"dataframe\">\n",
              "  <thead>\n",
              "    <tr style=\"text-align: right;\">\n",
              "      <th></th>\n",
              "      <th>Id</th>\n",
              "      <th>months_with_order</th>\n",
              "      <th>months_without_order</th>\n",
              "      <th>last_order_month</th>\n",
              "      <th>first_order_month</th>\n",
              "      <th>age</th>\n",
              "      <th>n_orders_complete</th>\n",
              "      <th>n_orders_canceled</th>\n",
              "      <th>avg_check</th>\n",
              "      <th>max_check</th>\n",
              "      <th>sum_spent</th>\n",
              "      <th>last_check</th>\n",
              "      <th>max_rate</th>\n",
              "      <th>was_rate_1</th>\n",
              "      <th>last_rate</th>\n",
              "      <th>n_orders_complete_last_month</th>\n",
              "      <th>max_duration</th>\n",
              "      <th>avg_duration</th>\n",
              "      <th>frequency</th>\n",
              "      <th>gender_Third</th>\n",
              "      <th>gender_female</th>\n",
              "      <th>gender_male</th>\n",
              "    </tr>\n",
              "  </thead>\n",
              "  <tbody>\n",
              "    <tr>\n",
              "      <th>0</th>\n",
              "      <td>19843</td>\n",
              "      <td>2</td>\n",
              "      <td>5</td>\n",
              "      <td>7</td>\n",
              "      <td>0</td>\n",
              "      <td>31.000000</td>\n",
              "      <td>2</td>\n",
              "      <td>6</td>\n",
              "      <td>49.000000</td>\n",
              "      <td>98.0</td>\n",
              "      <td>98.0</td>\n",
              "      <td>98.0</td>\n",
              "      <td>5</td>\n",
              "      <td>0</td>\n",
              "      <td>5</td>\n",
              "      <td>1</td>\n",
              "      <td>66.766667</td>\n",
              "      <td>22.975000</td>\n",
              "      <td>0.250000</td>\n",
              "      <td>1</td>\n",
              "      <td>0</td>\n",
              "      <td>0</td>\n",
              "    </tr>\n",
              "    <tr>\n",
              "      <th>2</th>\n",
              "      <td>342522</td>\n",
              "      <td>1</td>\n",
              "      <td>6</td>\n",
              "      <td>6</td>\n",
              "      <td>0</td>\n",
              "      <td>31.000000</td>\n",
              "      <td>2</td>\n",
              "      <td>0</td>\n",
              "      <td>178.500000</td>\n",
              "      <td>199.0</td>\n",
              "      <td>357.0</td>\n",
              "      <td>199.0</td>\n",
              "      <td>0</td>\n",
              "      <td>0</td>\n",
              "      <td>0</td>\n",
              "      <td>1</td>\n",
              "      <td>124.783333</td>\n",
              "      <td>110.233333</td>\n",
              "      <td>0.285714</td>\n",
              "      <td>1</td>\n",
              "      <td>0</td>\n",
              "      <td>0</td>\n",
              "    </tr>\n",
              "    <tr>\n",
              "      <th>4</th>\n",
              "      <td>233778</td>\n",
              "      <td>2</td>\n",
              "      <td>1</td>\n",
              "      <td>7</td>\n",
              "      <td>0</td>\n",
              "      <td>31.000000</td>\n",
              "      <td>4</td>\n",
              "      <td>0</td>\n",
              "      <td>149.250000</td>\n",
              "      <td>199.0</td>\n",
              "      <td>597.0</td>\n",
              "      <td>0.0</td>\n",
              "      <td>0</td>\n",
              "      <td>0</td>\n",
              "      <td>0</td>\n",
              "      <td>2</td>\n",
              "      <td>69.166667</td>\n",
              "      <td>43.325000</td>\n",
              "      <td>0.500000</td>\n",
              "      <td>1</td>\n",
              "      <td>0</td>\n",
              "      <td>0</td>\n",
              "    </tr>\n",
              "    <tr>\n",
              "      <th>5</th>\n",
              "      <td>40738</td>\n",
              "      <td>4</td>\n",
              "      <td>2</td>\n",
              "      <td>6</td>\n",
              "      <td>0</td>\n",
              "      <td>31.000000</td>\n",
              "      <td>15</td>\n",
              "      <td>1</td>\n",
              "      <td>33.133333</td>\n",
              "      <td>199.0</td>\n",
              "      <td>497.0</td>\n",
              "      <td>0.0</td>\n",
              "      <td>5</td>\n",
              "      <td>0</td>\n",
              "      <td>5</td>\n",
              "      <td>3</td>\n",
              "      <td>361.166667</td>\n",
              "      <td>83.291111</td>\n",
              "      <td>2.142857</td>\n",
              "      <td>1</td>\n",
              "      <td>0</td>\n",
              "      <td>0</td>\n",
              "    </tr>\n",
              "    <tr>\n",
              "      <th>7</th>\n",
              "      <td>174054</td>\n",
              "      <td>4</td>\n",
              "      <td>0</td>\n",
              "      <td>7</td>\n",
              "      <td>4</td>\n",
              "      <td>31.000000</td>\n",
              "      <td>5</td>\n",
              "      <td>1</td>\n",
              "      <td>185.600000</td>\n",
              "      <td>267.0</td>\n",
              "      <td>928.0</td>\n",
              "      <td>267.0</td>\n",
              "      <td>0</td>\n",
              "      <td>0</td>\n",
              "      <td>0</td>\n",
              "      <td>1</td>\n",
              "      <td>111.466667</td>\n",
              "      <td>82.110000</td>\n",
              "      <td>1.250000</td>\n",
              "      <td>1</td>\n",
              "      <td>0</td>\n",
              "      <td>0</td>\n",
              "    </tr>\n",
              "    <tr>\n",
              "      <th>...</th>\n",
              "      <td>...</td>\n",
              "      <td>...</td>\n",
              "      <td>...</td>\n",
              "      <td>...</td>\n",
              "      <td>...</td>\n",
              "      <td>...</td>\n",
              "      <td>...</td>\n",
              "      <td>...</td>\n",
              "      <td>...</td>\n",
              "      <td>...</td>\n",
              "      <td>...</td>\n",
              "      <td>...</td>\n",
              "      <td>...</td>\n",
              "      <td>...</td>\n",
              "      <td>...</td>\n",
              "      <td>...</td>\n",
              "      <td>...</td>\n",
              "      <td>...</td>\n",
              "      <td>...</td>\n",
              "      <td>...</td>\n",
              "      <td>...</td>\n",
              "      <td>...</td>\n",
              "    </tr>\n",
              "    <tr>\n",
              "      <th>214603</th>\n",
              "      <td>238680</td>\n",
              "      <td>2</td>\n",
              "      <td>1</td>\n",
              "      <td>6</td>\n",
              "      <td>0</td>\n",
              "      <td>31.000000</td>\n",
              "      <td>5</td>\n",
              "      <td>0</td>\n",
              "      <td>102.400000</td>\n",
              "      <td>158.0</td>\n",
              "      <td>512.0</td>\n",
              "      <td>158.0</td>\n",
              "      <td>5</td>\n",
              "      <td>0</td>\n",
              "      <td>5</td>\n",
              "      <td>1</td>\n",
              "      <td>98.850000</td>\n",
              "      <td>40.710000</td>\n",
              "      <td>0.714286</td>\n",
              "      <td>1</td>\n",
              "      <td>0</td>\n",
              "      <td>0</td>\n",
              "    </tr>\n",
              "    <tr>\n",
              "      <th>214604</th>\n",
              "      <td>16841</td>\n",
              "      <td>3</td>\n",
              "      <td>0</td>\n",
              "      <td>7</td>\n",
              "      <td>5</td>\n",
              "      <td>31.000000</td>\n",
              "      <td>9</td>\n",
              "      <td>0</td>\n",
              "      <td>132.000000</td>\n",
              "      <td>269.0</td>\n",
              "      <td>1188.0</td>\n",
              "      <td>1.0</td>\n",
              "      <td>5</td>\n",
              "      <td>0</td>\n",
              "      <td>0</td>\n",
              "      <td>3</td>\n",
              "      <td>131.566667</td>\n",
              "      <td>86.368519</td>\n",
              "      <td>3.000000</td>\n",
              "      <td>1</td>\n",
              "      <td>0</td>\n",
              "      <td>0</td>\n",
              "    </tr>\n",
              "    <tr>\n",
              "      <th>214605</th>\n",
              "      <td>69348</td>\n",
              "      <td>2</td>\n",
              "      <td>1</td>\n",
              "      <td>6</td>\n",
              "      <td>0</td>\n",
              "      <td>31.000000</td>\n",
              "      <td>6</td>\n",
              "      <td>0</td>\n",
              "      <td>42.666667</td>\n",
              "      <td>158.0</td>\n",
              "      <td>256.0</td>\n",
              "      <td>158.0</td>\n",
              "      <td>5</td>\n",
              "      <td>0</td>\n",
              "      <td>5</td>\n",
              "      <td>2</td>\n",
              "      <td>103.183333</td>\n",
              "      <td>13.733333</td>\n",
              "      <td>0.857143</td>\n",
              "      <td>1</td>\n",
              "      <td>0</td>\n",
              "      <td>0</td>\n",
              "    </tr>\n",
              "    <tr>\n",
              "      <th>214607</th>\n",
              "      <td>320024</td>\n",
              "      <td>2</td>\n",
              "      <td>1</td>\n",
              "      <td>6</td>\n",
              "      <td>0</td>\n",
              "      <td>31.000000</td>\n",
              "      <td>4</td>\n",
              "      <td>0</td>\n",
              "      <td>104.500000</td>\n",
              "      <td>418.0</td>\n",
              "      <td>418.0</td>\n",
              "      <td>0.0</td>\n",
              "      <td>5</td>\n",
              "      <td>0</td>\n",
              "      <td>3</td>\n",
              "      <td>1</td>\n",
              "      <td>76.350000</td>\n",
              "      <td>40.425000</td>\n",
              "      <td>0.571429</td>\n",
              "      <td>1</td>\n",
              "      <td>0</td>\n",
              "      <td>0</td>\n",
              "    </tr>\n",
              "    <tr>\n",
              "      <th>214608</th>\n",
              "      <td>23853</td>\n",
              "      <td>3</td>\n",
              "      <td>4</td>\n",
              "      <td>7</td>\n",
              "      <td>0</td>\n",
              "      <td>27.331507</td>\n",
              "      <td>9</td>\n",
              "      <td>113</td>\n",
              "      <td>97.555556</td>\n",
              "      <td>158.0</td>\n",
              "      <td>878.0</td>\n",
              "      <td>49.0</td>\n",
              "      <td>5</td>\n",
              "      <td>1</td>\n",
              "      <td>0</td>\n",
              "      <td>6</td>\n",
              "      <td>106.316667</td>\n",
              "      <td>30.685185</td>\n",
              "      <td>1.125000</td>\n",
              "      <td>0</td>\n",
              "      <td>1</td>\n",
              "      <td>0</td>\n",
              "    </tr>\n",
              "  </tbody>\n",
              "</table>\n",
              "<p>158638 rows × 22 columns</p>\n",
              "</div>"
            ],
            "text/plain": [
              "            Id  months_with_order  months_without_order  last_order_month  first_order_month        age  n_orders_complete  n_orders_canceled   avg_check  max_check  sum_spent  last_check  max_rate  was_rate_1  last_rate  n_orders_complete_last_month  max_duration  avg_duration  frequency  gender_Third  gender_female  gender_male\n",
              "0        19843                  2                     5                 7                  0  31.000000                  2                  6   49.000000       98.0       98.0        98.0         5           0          5                             1     66.766667     22.975000   0.250000             1              0            0\n",
              "2       342522                  1                     6                 6                  0  31.000000                  2                  0  178.500000      199.0      357.0       199.0         0           0          0                             1    124.783333    110.233333   0.285714             1              0            0\n",
              "4       233778                  2                     1                 7                  0  31.000000                  4                  0  149.250000      199.0      597.0         0.0         0           0          0                             2     69.166667     43.325000   0.500000             1              0            0\n",
              "5        40738                  4                     2                 6                  0  31.000000                 15                  1   33.133333      199.0      497.0         0.0         5           0          5                             3    361.166667     83.291111   2.142857             1              0            0\n",
              "7       174054                  4                     0                 7                  4  31.000000                  5                  1  185.600000      267.0      928.0       267.0         0           0          0                             1    111.466667     82.110000   1.250000             1              0            0\n",
              "...        ...                ...                   ...               ...                ...        ...                ...                ...         ...        ...        ...         ...       ...         ...        ...                           ...           ...           ...        ...           ...            ...          ...\n",
              "214603  238680                  2                     1                 6                  0  31.000000                  5                  0  102.400000      158.0      512.0       158.0         5           0          5                             1     98.850000     40.710000   0.714286             1              0            0\n",
              "214604   16841                  3                     0                 7                  5  31.000000                  9                  0  132.000000      269.0     1188.0         1.0         5           0          0                             3    131.566667     86.368519   3.000000             1              0            0\n",
              "214605   69348                  2                     1                 6                  0  31.000000                  6                  0   42.666667      158.0      256.0       158.0         5           0          5                             2    103.183333     13.733333   0.857143             1              0            0\n",
              "214607  320024                  2                     1                 6                  0  31.000000                  4                  0  104.500000      418.0      418.0         0.0         5           0          3                             1     76.350000     40.425000   0.571429             1              0            0\n",
              "214608   23853                  3                     4                 7                  0  27.331507                  9                113   97.555556      158.0      878.0        49.0         5           1          0                             6    106.316667     30.685185   1.125000             0              1            0\n",
              "\n",
              "[158638 rows x 22 columns]"
            ]
          },
          "metadata": {
            "tags": []
          },
          "execution_count": 442
        }
      ]
    },
    {
      "cell_type": "code",
      "metadata": {
        "id": "_Uq0b_hFGF3X",
        "outputId": "8bb252db-e39b-46e4-f5b0-05fe510390a9",
        "colab": {
          "base_uri": "https://localhost:8080/",
          "height": 444
        }
      },
      "source": [
        "submission_features_in_train.drop(['Id'], axis = 1)"
      ],
      "execution_count": 443,
      "outputs": [
        {
          "output_type": "execute_result",
          "data": {
            "text/html": [
              "<div>\n",
              "<style scoped>\n",
              "    .dataframe tbody tr th:only-of-type {\n",
              "        vertical-align: middle;\n",
              "    }\n",
              "\n",
              "    .dataframe tbody tr th {\n",
              "        vertical-align: top;\n",
              "    }\n",
              "\n",
              "    .dataframe thead th {\n",
              "        text-align: right;\n",
              "    }\n",
              "</style>\n",
              "<table border=\"1\" class=\"dataframe\">\n",
              "  <thead>\n",
              "    <tr style=\"text-align: right;\">\n",
              "      <th></th>\n",
              "      <th>months_with_order</th>\n",
              "      <th>months_without_order</th>\n",
              "      <th>last_order_month</th>\n",
              "      <th>first_order_month</th>\n",
              "      <th>age</th>\n",
              "      <th>n_orders_complete</th>\n",
              "      <th>n_orders_canceled</th>\n",
              "      <th>avg_check</th>\n",
              "      <th>max_check</th>\n",
              "      <th>sum_spent</th>\n",
              "      <th>last_check</th>\n",
              "      <th>max_rate</th>\n",
              "      <th>was_rate_1</th>\n",
              "      <th>last_rate</th>\n",
              "      <th>n_orders_complete_last_month</th>\n",
              "      <th>max_duration</th>\n",
              "      <th>avg_duration</th>\n",
              "      <th>frequency</th>\n",
              "      <th>gender_Third</th>\n",
              "      <th>gender_female</th>\n",
              "      <th>gender_male</th>\n",
              "    </tr>\n",
              "  </thead>\n",
              "  <tbody>\n",
              "    <tr>\n",
              "      <th>0</th>\n",
              "      <td>2</td>\n",
              "      <td>5</td>\n",
              "      <td>7</td>\n",
              "      <td>0</td>\n",
              "      <td>31.000000</td>\n",
              "      <td>2</td>\n",
              "      <td>6</td>\n",
              "      <td>49.000000</td>\n",
              "      <td>98.0</td>\n",
              "      <td>98.0</td>\n",
              "      <td>98.0</td>\n",
              "      <td>5</td>\n",
              "      <td>0</td>\n",
              "      <td>5</td>\n",
              "      <td>1</td>\n",
              "      <td>66.766667</td>\n",
              "      <td>22.975000</td>\n",
              "      <td>0.250000</td>\n",
              "      <td>1</td>\n",
              "      <td>0</td>\n",
              "      <td>0</td>\n",
              "    </tr>\n",
              "    <tr>\n",
              "      <th>2</th>\n",
              "      <td>1</td>\n",
              "      <td>6</td>\n",
              "      <td>6</td>\n",
              "      <td>0</td>\n",
              "      <td>31.000000</td>\n",
              "      <td>2</td>\n",
              "      <td>0</td>\n",
              "      <td>178.500000</td>\n",
              "      <td>199.0</td>\n",
              "      <td>357.0</td>\n",
              "      <td>199.0</td>\n",
              "      <td>0</td>\n",
              "      <td>0</td>\n",
              "      <td>0</td>\n",
              "      <td>1</td>\n",
              "      <td>124.783333</td>\n",
              "      <td>110.233333</td>\n",
              "      <td>0.285714</td>\n",
              "      <td>1</td>\n",
              "      <td>0</td>\n",
              "      <td>0</td>\n",
              "    </tr>\n",
              "    <tr>\n",
              "      <th>4</th>\n",
              "      <td>2</td>\n",
              "      <td>1</td>\n",
              "      <td>7</td>\n",
              "      <td>0</td>\n",
              "      <td>31.000000</td>\n",
              "      <td>4</td>\n",
              "      <td>0</td>\n",
              "      <td>149.250000</td>\n",
              "      <td>199.0</td>\n",
              "      <td>597.0</td>\n",
              "      <td>0.0</td>\n",
              "      <td>0</td>\n",
              "      <td>0</td>\n",
              "      <td>0</td>\n",
              "      <td>2</td>\n",
              "      <td>69.166667</td>\n",
              "      <td>43.325000</td>\n",
              "      <td>0.500000</td>\n",
              "      <td>1</td>\n",
              "      <td>0</td>\n",
              "      <td>0</td>\n",
              "    </tr>\n",
              "    <tr>\n",
              "      <th>5</th>\n",
              "      <td>4</td>\n",
              "      <td>2</td>\n",
              "      <td>6</td>\n",
              "      <td>0</td>\n",
              "      <td>31.000000</td>\n",
              "      <td>15</td>\n",
              "      <td>1</td>\n",
              "      <td>33.133333</td>\n",
              "      <td>199.0</td>\n",
              "      <td>497.0</td>\n",
              "      <td>0.0</td>\n",
              "      <td>5</td>\n",
              "      <td>0</td>\n",
              "      <td>5</td>\n",
              "      <td>3</td>\n",
              "      <td>361.166667</td>\n",
              "      <td>83.291111</td>\n",
              "      <td>2.142857</td>\n",
              "      <td>1</td>\n",
              "      <td>0</td>\n",
              "      <td>0</td>\n",
              "    </tr>\n",
              "    <tr>\n",
              "      <th>7</th>\n",
              "      <td>4</td>\n",
              "      <td>0</td>\n",
              "      <td>7</td>\n",
              "      <td>4</td>\n",
              "      <td>31.000000</td>\n",
              "      <td>5</td>\n",
              "      <td>1</td>\n",
              "      <td>185.600000</td>\n",
              "      <td>267.0</td>\n",
              "      <td>928.0</td>\n",
              "      <td>267.0</td>\n",
              "      <td>0</td>\n",
              "      <td>0</td>\n",
              "      <td>0</td>\n",
              "      <td>1</td>\n",
              "      <td>111.466667</td>\n",
              "      <td>82.110000</td>\n",
              "      <td>1.250000</td>\n",
              "      <td>1</td>\n",
              "      <td>0</td>\n",
              "      <td>0</td>\n",
              "    </tr>\n",
              "    <tr>\n",
              "      <th>...</th>\n",
              "      <td>...</td>\n",
              "      <td>...</td>\n",
              "      <td>...</td>\n",
              "      <td>...</td>\n",
              "      <td>...</td>\n",
              "      <td>...</td>\n",
              "      <td>...</td>\n",
              "      <td>...</td>\n",
              "      <td>...</td>\n",
              "      <td>...</td>\n",
              "      <td>...</td>\n",
              "      <td>...</td>\n",
              "      <td>...</td>\n",
              "      <td>...</td>\n",
              "      <td>...</td>\n",
              "      <td>...</td>\n",
              "      <td>...</td>\n",
              "      <td>...</td>\n",
              "      <td>...</td>\n",
              "      <td>...</td>\n",
              "      <td>...</td>\n",
              "    </tr>\n",
              "    <tr>\n",
              "      <th>214603</th>\n",
              "      <td>2</td>\n",
              "      <td>1</td>\n",
              "      <td>6</td>\n",
              "      <td>0</td>\n",
              "      <td>31.000000</td>\n",
              "      <td>5</td>\n",
              "      <td>0</td>\n",
              "      <td>102.400000</td>\n",
              "      <td>158.0</td>\n",
              "      <td>512.0</td>\n",
              "      <td>158.0</td>\n",
              "      <td>5</td>\n",
              "      <td>0</td>\n",
              "      <td>5</td>\n",
              "      <td>1</td>\n",
              "      <td>98.850000</td>\n",
              "      <td>40.710000</td>\n",
              "      <td>0.714286</td>\n",
              "      <td>1</td>\n",
              "      <td>0</td>\n",
              "      <td>0</td>\n",
              "    </tr>\n",
              "    <tr>\n",
              "      <th>214604</th>\n",
              "      <td>3</td>\n",
              "      <td>0</td>\n",
              "      <td>7</td>\n",
              "      <td>5</td>\n",
              "      <td>31.000000</td>\n",
              "      <td>9</td>\n",
              "      <td>0</td>\n",
              "      <td>132.000000</td>\n",
              "      <td>269.0</td>\n",
              "      <td>1188.0</td>\n",
              "      <td>1.0</td>\n",
              "      <td>5</td>\n",
              "      <td>0</td>\n",
              "      <td>0</td>\n",
              "      <td>3</td>\n",
              "      <td>131.566667</td>\n",
              "      <td>86.368519</td>\n",
              "      <td>3.000000</td>\n",
              "      <td>1</td>\n",
              "      <td>0</td>\n",
              "      <td>0</td>\n",
              "    </tr>\n",
              "    <tr>\n",
              "      <th>214605</th>\n",
              "      <td>2</td>\n",
              "      <td>1</td>\n",
              "      <td>6</td>\n",
              "      <td>0</td>\n",
              "      <td>31.000000</td>\n",
              "      <td>6</td>\n",
              "      <td>0</td>\n",
              "      <td>42.666667</td>\n",
              "      <td>158.0</td>\n",
              "      <td>256.0</td>\n",
              "      <td>158.0</td>\n",
              "      <td>5</td>\n",
              "      <td>0</td>\n",
              "      <td>5</td>\n",
              "      <td>2</td>\n",
              "      <td>103.183333</td>\n",
              "      <td>13.733333</td>\n",
              "      <td>0.857143</td>\n",
              "      <td>1</td>\n",
              "      <td>0</td>\n",
              "      <td>0</td>\n",
              "    </tr>\n",
              "    <tr>\n",
              "      <th>214607</th>\n",
              "      <td>2</td>\n",
              "      <td>1</td>\n",
              "      <td>6</td>\n",
              "      <td>0</td>\n",
              "      <td>31.000000</td>\n",
              "      <td>4</td>\n",
              "      <td>0</td>\n",
              "      <td>104.500000</td>\n",
              "      <td>418.0</td>\n",
              "      <td>418.0</td>\n",
              "      <td>0.0</td>\n",
              "      <td>5</td>\n",
              "      <td>0</td>\n",
              "      <td>3</td>\n",
              "      <td>1</td>\n",
              "      <td>76.350000</td>\n",
              "      <td>40.425000</td>\n",
              "      <td>0.571429</td>\n",
              "      <td>1</td>\n",
              "      <td>0</td>\n",
              "      <td>0</td>\n",
              "    </tr>\n",
              "    <tr>\n",
              "      <th>214608</th>\n",
              "      <td>3</td>\n",
              "      <td>4</td>\n",
              "      <td>7</td>\n",
              "      <td>0</td>\n",
              "      <td>27.331507</td>\n",
              "      <td>9</td>\n",
              "      <td>113</td>\n",
              "      <td>97.555556</td>\n",
              "      <td>158.0</td>\n",
              "      <td>878.0</td>\n",
              "      <td>49.0</td>\n",
              "      <td>5</td>\n",
              "      <td>1</td>\n",
              "      <td>0</td>\n",
              "      <td>6</td>\n",
              "      <td>106.316667</td>\n",
              "      <td>30.685185</td>\n",
              "      <td>1.125000</td>\n",
              "      <td>0</td>\n",
              "      <td>1</td>\n",
              "      <td>0</td>\n",
              "    </tr>\n",
              "  </tbody>\n",
              "</table>\n",
              "<p>158638 rows × 21 columns</p>\n",
              "</div>"
            ],
            "text/plain": [
              "        months_with_order  months_without_order  last_order_month  first_order_month        age  n_orders_complete  n_orders_canceled   avg_check  max_check  sum_spent  last_check  max_rate  was_rate_1  last_rate  n_orders_complete_last_month  max_duration  avg_duration  frequency  gender_Third  gender_female  gender_male\n",
              "0                       2                     5                 7                  0  31.000000                  2                  6   49.000000       98.0       98.0        98.0         5           0          5                             1     66.766667     22.975000   0.250000             1              0            0\n",
              "2                       1                     6                 6                  0  31.000000                  2                  0  178.500000      199.0      357.0       199.0         0           0          0                             1    124.783333    110.233333   0.285714             1              0            0\n",
              "4                       2                     1                 7                  0  31.000000                  4                  0  149.250000      199.0      597.0         0.0         0           0          0                             2     69.166667     43.325000   0.500000             1              0            0\n",
              "5                       4                     2                 6                  0  31.000000                 15                  1   33.133333      199.0      497.0         0.0         5           0          5                             3    361.166667     83.291111   2.142857             1              0            0\n",
              "7                       4                     0                 7                  4  31.000000                  5                  1  185.600000      267.0      928.0       267.0         0           0          0                             1    111.466667     82.110000   1.250000             1              0            0\n",
              "...                   ...                   ...               ...                ...        ...                ...                ...         ...        ...        ...         ...       ...         ...        ...                           ...           ...           ...        ...           ...            ...          ...\n",
              "214603                  2                     1                 6                  0  31.000000                  5                  0  102.400000      158.0      512.0       158.0         5           0          5                             1     98.850000     40.710000   0.714286             1              0            0\n",
              "214604                  3                     0                 7                  5  31.000000                  9                  0  132.000000      269.0     1188.0         1.0         5           0          0                             3    131.566667     86.368519   3.000000             1              0            0\n",
              "214605                  2                     1                 6                  0  31.000000                  6                  0   42.666667      158.0      256.0       158.0         5           0          5                             2    103.183333     13.733333   0.857143             1              0            0\n",
              "214607                  2                     1                 6                  0  31.000000                  4                  0  104.500000      418.0      418.0         0.0         5           0          3                             1     76.350000     40.425000   0.571429             1              0            0\n",
              "214608                  3                     4                 7                  0  27.331507                  9                113   97.555556      158.0      878.0        49.0         5           1          0                             6    106.316667     30.685185   1.125000             0              1            0\n",
              "\n",
              "[158638 rows x 21 columns]"
            ]
          },
          "metadata": {
            "tags": []
          },
          "execution_count": 443
        }
      ]
    },
    {
      "cell_type": "code",
      "metadata": {
        "id": "nMrZ28bcsLFV",
        "outputId": "88a3d270-764e-463c-f427-a2c0d77eca83",
        "colab": {
          "base_uri": "https://localhost:8080/",
          "height": 127
        }
      },
      "source": [
        "probabilities = xg.predict_proba(submission_features_in_train.drop(['Id'], axis = 1))\n",
        "submission_features_in_train['Predicted'] = probabilities[:, 1]"
      ],
      "execution_count": 444,
      "outputs": [
        {
          "output_type": "stream",
          "text": [
            "/usr/local/lib/python3.6/dist-packages/ipykernel_launcher.py:2: SettingWithCopyWarning: \n",
            "A value is trying to be set on a copy of a slice from a DataFrame.\n",
            "Try using .loc[row_indexer,col_indexer] = value instead\n",
            "\n",
            "See the caveats in the documentation: https://pandas.pydata.org/pandas-docs/stable/user_guide/indexing.html#returning-a-view-versus-a-copy\n",
            "  \n"
          ],
          "name": "stderr"
        }
      ]
    },
    {
      "cell_type": "code",
      "metadata": {
        "id": "u6nLRogRoAOt"
      },
      "source": [
        ""
      ],
      "execution_count": 444,
      "outputs": []
    },
    {
      "cell_type": "code",
      "metadata": {
        "id": "Gw4UpNS3rSOR"
      },
      "source": [
        "submission_features = submission_features.merge(submission_features_in_train[['Id', 'Predicted']] , on='Id', how='left')[['Id', 'Predicted']]"
      ],
      "execution_count": 445,
      "outputs": []
    },
    {
      "cell_type": "code",
      "metadata": {
        "id": "fW_67k_gruRa"
      },
      "source": [
        "submission_features = submission_features.fillna(1)\n",
        "submission_features['Predicted'] = 1*(submission_features['Predicted'] > threshold_XGB)"
      ],
      "execution_count": 446,
      "outputs": []
    },
    {
      "cell_type": "code",
      "metadata": {
        "id": "iMiYNFMs3DRM"
      },
      "source": [
        "submission_features_in_train['Predicted'] = submission_features['Predicted'] > threshold_XGB"
      ],
      "execution_count": 447,
      "outputs": []
    },
    {
      "cell_type": "code",
      "metadata": {
        "id": "7HOzqx7vVjiS"
      },
      "source": [
        "submission_features.to_csv( './drive/My Drive/Colab Notebooks/NGWL The Glorious Chargers/02_submit/submit_21.csv' , index=False)"
      ],
      "execution_count": 448,
      "outputs": []
    },
    {
      "cell_type": "code",
      "metadata": {
        "id": "0wXzP78URzj_"
      },
      "source": [
        ""
      ],
      "execution_count": 448,
      "outputs": []
    }
  ]
}