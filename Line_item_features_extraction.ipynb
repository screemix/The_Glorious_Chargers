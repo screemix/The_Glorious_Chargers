{
  "nbformat": 4,
  "nbformat_minor": 0,
  "metadata": {
    "kernelspec": {
      "display_name": "Python 3",
      "language": "python",
      "name": "python3"
    },
    "language_info": {
      "codemirror_mode": {
        "name": "ipython",
        "version": 3
      },
      "file_extension": ".py",
      "mimetype": "text/x-python",
      "name": "python",
      "nbconvert_exporter": "python",
      "pygments_lexer": "ipython3",
      "version": "3.7.4"
    },
    "colab": {
      "name": "Line_item.ipynb",
      "provenance": [],
      "include_colab_link": true
    }
  },
  "cells": [
    {
      "cell_type": "markdown",
      "metadata": {
        "id": "view-in-github",
        "colab_type": "text"
      },
      "source": [
        "<a href=\"https://colab.research.google.com/github/screemix/The_Glorious_Chargers/blob/main/Line_item.ipynb\" target=\"_parent\"><img src=\"https://colab.research.google.com/assets/colab-badge.svg\" alt=\"Open In Colab\"/></a>"
      ]
    },
    {
      "cell_type": "markdown",
      "metadata": {
        "id": "_d82RfpOVjDM"
      },
      "source": [
        "# Libs"
      ]
    },
    {
      "cell_type": "code",
      "metadata": {
        "id": "PaHAfFrDVjDN"
      },
      "source": [
        "import sys\n",
        "import glob\n",
        "import os\n",
        "import io\n",
        "import pickle\n",
        "import statistics\n",
        "import math\n",
        "import pandas as pd\n",
        "import numpy as np\n",
        "\n",
        "import seaborn as sns\n",
        "\n",
        "import calendar\n",
        "calendar.setfirstweekday(calendar.MONDAY) # first week day\n",
        "\n",
        "from datetime import datetime\n",
        "from datetime import time\n",
        "from datetime import date, timedelta\n",
        "\n",
        "from dateutil.relativedelta import *\n",
        "\n",
        "import matplotlib.pyplot as plt\n",
        "import matplotlib.dates as mdates\n",
        "from matplotlib.dates import MO, TU, WE, TH, FR, SA\n",
        "from matplotlib.ticker import FuncFormatter\n",
        "\n",
        "from pandas.plotting import autocorrelation_plot\n",
        "from pandas.plotting import lag_plot\n",
        "from pandas.plotting import register_matplotlib_converters\n",
        "register_matplotlib_converters()\n",
        "from pandas.tseries.offsets import *\n",
        "\n",
        "from statsmodels.graphics.tsaplots import plot_acf\n",
        "from statsmodels.tsa.seasonal import seasonal_decompose\n",
        "\n",
        "\n",
        "%matplotlib inline\n",
        "\n",
        "# pandas settings\n",
        "pd.set_option('display.max_columns', 500)\n",
        "pd.set_option('display.width', 1000)\n",
        "pd.set_option('display.max_rows', 500)"
      ],
      "execution_count": null,
      "outputs": []
    },
    {
      "cell_type": "code",
      "metadata": {
        "id": "S6wsL7TCVjDX"
      },
      "source": [
        "from sklearn.model_selection import GridSearchCV, RandomizedSearchCV, train_test_split, cross_val_score, \\\n",
        "                                    ShuffleSplit, cross_val_predict, TimeSeriesSplit, ParameterSampler, PredefinedSplit\n",
        "from sklearn.preprocessing import StandardScaler, MaxAbsScaler, PolynomialFeatures, LabelEncoder, OneHotEncoder, LabelBinarizer\n",
        "from sklearn.metrics import r2_score,  mean_squared_error, accuracy_score, \\\n",
        "                            mean_absolute_error, median_absolute_error, make_scorer\n",
        "from sklearn.linear_model import LinearRegression, Lasso, Ridge, LogisticRegression, SGDRegressor\n",
        "from sklearn.tree import DecisionTreeRegressor\n",
        "from sklearn.ensemble import GradientBoostingRegressor, RandomForestRegressor\n",
        "from sklearn.dummy import DummyRegressor\n",
        "from sklearn.feature_selection import RFE, RFECV, SelectFromModel\n",
        "\n",
        "import xgboost as xgb\n",
        "from xgboost import plot_importance"
      ],
      "execution_count": null,
      "outputs": []
    },
    {
      "cell_type": "markdown",
      "metadata": {
        "id": "YsiRHo_MVjDa"
      },
      "source": [
        "# Import data"
      ]
    },
    {
      "cell_type": "markdown",
      "metadata": {
        "id": "gRmMBgA4VjDb"
      },
      "source": [
        "## Train"
      ]
    },
    {
      "cell_type": "code",
      "metadata": {
        "id": "09f1hPPDVjDc"
      },
      "source": [
        "data_path = 'C://Users//Tanya//Desktop//Sbermarket'"
      ],
      "execution_count": null,
      "outputs": []
    },
    {
      "cell_type": "code",
      "metadata": {
        "id": "2voQMygwVjDf"
      },
      "source": [
        "file_1 = os.path.join(data_path, 'train/train.csv')\n",
        "train = pd.read_csv(file_1)"
      ],
      "execution_count": null,
      "outputs": []
    },
    {
      "cell_type": "code",
      "metadata": {
        "scrolled": true,
        "id": "78WD-OHEVjDj"
      },
      "source": [
        "train.head(10)"
      ],
      "execution_count": null,
      "outputs": []
    },
    {
      "cell_type": "code",
      "metadata": {
        "id": "tC1Cq98QVjDp"
      },
      "source": [
        "train.tail()"
      ],
      "execution_count": null,
      "outputs": []
    },
    {
      "cell_type": "code",
      "metadata": {
        "scrolled": false,
        "id": "55LjYmU2VjDu"
      },
      "source": [
        "train.shape"
      ],
      "execution_count": null,
      "outputs": []
    },
    {
      "cell_type": "code",
      "metadata": {
        "id": "F-jSiuJYVjD0"
      },
      "source": [
        "train.sort_values(by=['phone_id', 'order_completed_at'], inplace = True)"
      ],
      "execution_count": null,
      "outputs": []
    },
    {
      "cell_type": "code",
      "metadata": {
        "id": "VBjOLkVdVjD5"
      },
      "source": [
        "train['Number_of_months_with_orders'] = train.groupby('phone_id')['target'].transform(np.sum)"
      ],
      "execution_count": null,
      "outputs": []
    },
    {
      "cell_type": "code",
      "metadata": {
        "id": "VCU4J-hFVjD-"
      },
      "source": [
        "train['Number_of_months_overall'] = train.groupby('phone_id').transform(np.size)"
      ],
      "execution_count": null,
      "outputs": []
    },
    {
      "cell_type": "code",
      "metadata": {
        "id": "_Ryzc6J-VjED"
      },
      "source": [
        "train.groupby('phone_id')['order_completed_at'].first()"
      ],
      "execution_count": null,
      "outputs": []
    },
    {
      "cell_type": "code",
      "metadata": {
        "id": "eFwF2txLVjEI"
      },
      "source": [
        "\n",
        "train['Number_of_months_with_orders'].value_counts().plot(kind='bar')"
      ],
      "execution_count": null,
      "outputs": []
    },
    {
      "cell_type": "code",
      "metadata": {
        "id": "dySHIr_RVjEL"
      },
      "source": [
        "train = train.assign(Latest_order = \\\n",
        "                     train.sort_values(['phone_id','order_completed_at'], ascending=False).groupby('phone_id')['order_completed_at'].last())"
      ],
      "execution_count": null,
      "outputs": []
    },
    {
      "cell_type": "code",
      "metadata": {
        "id": "b1h2wdtHVjEP"
      },
      "source": [
        "train = train.assign(First_order = \\\n",
        "                     train.groupby('phone_id')['order_completed_at'].first())"
      ],
      "execution_count": null,
      "outputs": []
    },
    {
      "cell_type": "code",
      "metadata": {
        "id": "Mhlw-Og-VjET"
      },
      "source": [
        "train['Latest_order'] = train.groupby(['phone_id'])['order_completed_at'].last()"
      ],
      "execution_count": null,
      "outputs": []
    },
    {
      "cell_type": "code",
      "metadata": {
        "id": "QctirpkeVjEa"
      },
      "source": [
        " = data.resample('W').agg({\n",
        "    '': np.sum, \n",
        "    '': np.sum,\n",
        "    '':  np.sum, \n",
        "    '': np.sum,\n",
        "    ': np.sum,\n",
        "})"
      ],
      "execution_count": null,
      "outputs": []
    },
    {
      "cell_type": "markdown",
      "metadata": {
        "id": "UqTkcYdHVjEf"
      },
      "source": [
        "## Inline"
      ]
    },
    {
      "cell_type": "code",
      "metadata": {
        "id": "UPlvjChlVjEg"
      },
      "source": [
        "file_pattern = 'line_items*'"
      ],
      "execution_count": null,
      "outputs": []
    },
    {
      "cell_type": "code",
      "metadata": {
        "id": "wz7RnVVVVjEl"
      },
      "source": [
        "files = glob.glob(os.path.join(data_path, file_pattern, file_pattern))\n",
        "files"
      ],
      "execution_count": null,
      "outputs": []
    },
    {
      "cell_type": "code",
      "metadata": {
        "scrolled": true,
        "id": "TWcULYZgVjEq"
      },
      "source": [
        "line_items = pd.DataFrame()\n",
        "rows = []\n",
        "\n",
        "for file in files:\n",
        "    filename = file.split('\\\\')[-1]\n",
        "    print('\\nFile {0} is read in'.format(filename))\n",
        "\n",
        "    line_items_tmp = pd.read_csv(file)\n",
        "\n",
        "    rows += [line_items_tmp.shape[0]]\n",
        "    line_items = line_items.append(line_items_tmp, sort=True)\n",
        "\n",
        "# reset the index, so we do not have double indices (from the different files)\n",
        "line_items = line_items.reset_index(drop=True)"
      ],
      "execution_count": null,
      "outputs": []
    },
    {
      "cell_type": "code",
      "metadata": {
        "id": "TsTxis8FVjEu"
      },
      "source": [
        "assert line_items.shape[0] == sum(rows)"
      ],
      "execution_count": null,
      "outputs": []
    },
    {
      "cell_type": "code",
      "metadata": {
        "id": "yu3xXfg1VjE2"
      },
      "source": [
        "line_items.shape"
      ],
      "execution_count": null,
      "outputs": []
    },
    {
      "cell_type": "code",
      "metadata": {
        "id": "Z7PFdP2-VjE8"
      },
      "source": [
        "# Saving combined inline_items\n",
        "output_file = os.path.join(data_path, 'inline_items.pkl')\n",
        "\n",
        "print('Save output in {}..'.format(output_file))\n",
        "line_items.to_pickle(output_file)"
      ],
      "execution_count": null,
      "outputs": []
    },
    {
      "cell_type": "code",
      "metadata": {
        "id": "LwpFCVQkVjE_"
      },
      "source": [
        "line_items = pd.read_pickle(os.path.join(data_path, 'inline_items.pkl'))"
      ],
      "execution_count": null,
      "outputs": []
    },
    {
      "cell_type": "code",
      "metadata": {
        "scrolled": true,
        "id": "GNRdDaGjVjFD"
      },
      "source": [
        "line_items.head()"
      ],
      "execution_count": null,
      "outputs": []
    },
    {
      "cell_type": "code",
      "metadata": {
        "id": "iKCU4JQnVjFI"
      },
      "source": [
        "line_items.sort_values(by=['shipment_id'], inplace = True)"
      ],
      "execution_count": null,
      "outputs": []
    },
    {
      "cell_type": "code",
      "metadata": {
        "id": "xhMx8CufVjFN"
      },
      "source": [
        "line_items[\"Sum_of_cancelled\"] = line_items.groupby(\"shipment_id\")[\"cancelled\"].transform(sum)"
      ],
      "execution_count": null,
      "outputs": []
    },
    {
      "cell_type": "code",
      "metadata": {
        "id": "SEuzApF2VjFR"
      },
      "source": [
        "line_items[\"Sum_of_replaced\"] = line_items.groupby(\"shipment_id\")[\"replaced\"].transform(sum)"
      ],
      "execution_count": null,
      "outputs": []
    },
    {
      "cell_type": "code",
      "metadata": {
        "id": "JxaM2blKVjFW"
      },
      "source": [
        "line_items[\"Quantity\"] = line_items.groupby(\"shipment_id\")[\"quantity\"].transform(sum)"
      ],
      "execution_count": null,
      "outputs": []
    },
    {
      "cell_type": "code",
      "metadata": {
        "id": "ONJRIdsUVjFZ"
      },
      "source": [
        "line_items.head(59)"
      ],
      "execution_count": null,
      "outputs": []
    },
    {
      "cell_type": "code",
      "metadata": {
        "id": "ZE7x9LZCVjFf"
      },
      "source": [
        "line_items_grouped = line_items.groupby(\"shipment_id\").first().reset_index()"
      ],
      "execution_count": null,
      "outputs": []
    },
    {
      "cell_type": "code",
      "metadata": {
        "id": "tWi-Vo98VjFk"
      },
      "source": [
        ""
      ],
      "execution_count": null,
      "outputs": []
    },
    {
      "cell_type": "code",
      "metadata": {
        "scrolled": true,
        "id": "4v0YJbqgVjFn"
      },
      "source": [
        "line_items_grouped.head()"
      ],
      "execution_count": null,
      "outputs": []
    },
    {
      "cell_type": "code",
      "metadata": {
        "id": "B2X5lwSJVjFs"
      },
      "source": [
        ""
      ],
      "execution_count": null,
      "outputs": []
    },
    {
      "cell_type": "code",
      "metadata": {
        "id": "tWkDZtCTVjFw"
      },
      "source": [
        "line_items_grouped.drop([\"cancelled\", \"price\", \"product_id\", \"quantity\", \"replaced\", \"brand_name\", \"cancelled\",\n",
        "                        \"discount\", \"item_id\", \"master_category_id\"], axis = 1, inplace = True)"
      ],
      "execution_count": null,
      "outputs": []
    },
    {
      "cell_type": "code",
      "metadata": {
        "id": "McfpC9R8VjF1"
      },
      "source": [
        "line_items_grouped.drop([\"pricer\"], axis = 1, inplace = True)"
      ],
      "execution_count": null,
      "outputs": []
    },
    {
      "cell_type": "code",
      "metadata": {
        "scrolled": true,
        "id": "FvjgDNoLVjF6"
      },
      "source": [
        "line_items_grouped.head()"
      ],
      "execution_count": null,
      "outputs": []
    },
    {
      "cell_type": "code",
      "metadata": {
        "id": "goXkxcxCVjF_"
      },
      "source": [
        "output_file = os.path.join(data_path, 'Shipments_items.csv')\n",
        "\n",
        "line_items_grouped.to_csv(output_file, sep = ';', index=False)"
      ],
      "execution_count": null,
      "outputs": []
    },
    {
      "cell_type": "code",
      "metadata": {
        "id": "ZMuccB3VVjGD"
      },
      "source": [
        "file_shipment_id_phone = os.path.join(data_path, 'shipment_id_phone_mapping.csv')\n",
        "shipment_id_phone = pd.read_csv(file_shipment_id_phone)"
      ],
      "execution_count": null,
      "outputs": []
    },
    {
      "cell_type": "code",
      "metadata": {
        "id": "O9ymxz-mVjGH"
      },
      "source": [
        "line_items_grouped.head(20)"
      ],
      "execution_count": null,
      "outputs": []
    },
    {
      "cell_type": "code",
      "metadata": {
        "id": "UfMmiynSVjGK"
      },
      "source": [
        "line_items_grouped[[\"Sum_of_cancelled\"]].hist(bins = 55)"
      ],
      "execution_count": null,
      "outputs": []
    },
    {
      "cell_type": "code",
      "metadata": {
        "id": "7czzVnMzVjGQ"
      },
      "source": [
        "fig, axes = plt.subplots(figsize=(17, 5), nrows = 1, ncols = 2, sharex=True)\n",
        "\n",
        "axes[0].hist(line_items_grouped[[\"Sum_of_cancelled\"]], bins = 5)\n",
        "axes[0].set_title(col, fontsize= 12, loc = 'left')\n",
        "plt.xlim((-1, 50))\n",
        "axes[0].set_xlabel('Sum_of_cancelled')\n",
        "axes[1].hist(line_items_grouped[[\"Sum_of_replaced\"]], bins = 5)\n",
        "axes[1].set_title(col, fontsize= 12, loc = 'left')\n",
        "axes[1].set_xlabel('Sum_of_replaced')\n",
        "plt.xlim((-1, 50))\n",
        "plt.show()"
      ],
      "execution_count": null,
      "outputs": []
    },
    {
      "cell_type": "code",
      "metadata": {
        "id": "Wrh-fs_bVjGW"
      },
      "source": [
        "line_items_grouped[[\"Sum_of_replaced\", \"Quantity\"]].hist(bins = 5)"
      ],
      "execution_count": null,
      "outputs": []
    },
    {
      "cell_type": "code",
      "metadata": {
        "id": "5B3wmyEyVjGb"
      },
      "source": [
        "merged = pd.merge(shipment_id_phone, line_items_grouped, how='outer', on=\"shipment_id\", left_on=None, right_on=None,\n",
        "         left_index=False, right_index=False, sort=True,\n",
        "         suffixes=('_x', '_y'), copy=True, indicator=False,\n",
        "         validate=None)"
      ],
      "execution_count": null,
      "outputs": []
    },
    {
      "cell_type": "code",
      "metadata": {
        "id": "n6u138tOVjGg"
      },
      "source": [
        "shipment_id_phone.shape"
      ],
      "execution_count": null,
      "outputs": []
    },
    {
      "cell_type": "code",
      "metadata": {
        "id": "9V6BXpTOVjGk"
      },
      "source": [
        "merged.shape"
      ],
      "execution_count": null,
      "outputs": []
    },
    {
      "cell_type": "code",
      "metadata": {
        "id": "dRVpMsxmVjGn"
      },
      "source": [
        "merged.head(17)"
      ],
      "execution_count": null,
      "outputs": []
    },
    {
      "cell_type": "code",
      "metadata": {
        "id": "P2YSXeQ5VjGr"
      },
      "source": [
        ""
      ],
      "execution_count": null,
      "outputs": []
    }
  ]
}
