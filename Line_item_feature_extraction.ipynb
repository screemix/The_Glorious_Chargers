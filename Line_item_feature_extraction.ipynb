{
  "nbformat": 4,
  "nbformat_minor": 0,
  "metadata": {
    "kernelspec": {
      "display_name": "Python 3",
      "language": "python",
      "name": "python3"
    },
    "language_info": {
      "codemirror_mode": {
        "name": "ipython",
        "version": 3
      },
      "file_extension": ".py",
      "mimetype": "text/x-python",
      "name": "python",
      "nbconvert_exporter": "python",
      "pygments_lexer": "ipython3",
      "version": "3.7.4"
    },
    "colab": {
      "name": "Line_item.ipynb",
      "provenance": [],
      "collapsed_sections": [],
      "include_colab_link": true
    }
  },
  "cells": [
    {
      "cell_type": "markdown",
      "metadata": {
        "id": "view-in-github",
        "colab_type": "text"
      },
      "source": [
        "<a href=\"https://colab.research.google.com/github/screemix/The_Glorious_Chargers/blob/main/Line_item.ipynb\" target=\"_parent\"><img src=\"https://colab.research.google.com/assets/colab-badge.svg\" alt=\"Open In Colab\"/></a>"
      ]
    },
    {
      "cell_type": "markdown",
      "metadata": {
        "id": "-FjMruX0ZnXR"
      },
      "source": [
        "# Libs"
      ]
    },
    {
      "cell_type": "code",
      "metadata": {
        "id": "HsplMIogZnXS"
      },
      "source": [
        "import sys\n",
        "import glob\n",
        "import os\n",
        "import io\n",
        "import pickle\n",
        "import statistics\n",
        "import math\n",
        "import pandas as pd\n",
        "import numpy as np\n",
        "\n",
        "import seaborn as sns\n",
        "\n",
        "import calendar\n",
        "calendar.setfirstweekday(calendar.MONDAY) # first week day\n",
        "\n",
        "from datetime import datetime\n",
        "from datetime import time\n",
        "from datetime import date, timedelta\n",
        "\n",
        "from dateutil.relativedelta import *\n",
        "\n",
        "import matplotlib.pyplot as plt\n",
        "import matplotlib.dates as mdates\n",
        "from matplotlib.dates import MO, TU, WE, TH, FR, SA\n",
        "from matplotlib.ticker import FuncFormatter\n",
        "\n",
        "from pandas.plotting import autocorrelation_plot\n",
        "from pandas.plotting import lag_plot\n",
        "from pandas.plotting import register_matplotlib_converters\n",
        "register_matplotlib_converters()\n",
        "from pandas.tseries.offsets import *\n",
        "\n",
        "from statsmodels.graphics.tsaplots import plot_acf\n",
        "from statsmodels.tsa.seasonal import seasonal_decompose\n",
        "\n",
        "\n",
        "%matplotlib inline\n",
        "\n",
        "# pandas settings\n",
        "pd.set_option('display.max_columns', 500)\n",
        "pd.set_option('display.width', 1000)\n",
        "pd.set_option('display.max_rows', 500)"
      ],
      "execution_count": null,
      "outputs": []
    },
    {
      "cell_type": "code",
      "metadata": {
        "id": "A9OdHJK-ZnXb"
      },
      "source": [
        "from sklearn.model_selection import GridSearchCV, RandomizedSearchCV, train_test_split, cross_val_score, \\\n",
        "                                    ShuffleSplit, cross_val_predict, TimeSeriesSplit, ParameterSampler, PredefinedSplit\n",
        "from sklearn.preprocessing import StandardScaler, MaxAbsScaler, PolynomialFeatures, LabelEncoder, OneHotEncoder, LabelBinarizer\n",
        "from sklearn.metrics import r2_score,  mean_squared_error, accuracy_score, \\\n",
        "                            mean_absolute_error, median_absolute_error, make_scorer\n",
        "from sklearn.linear_model import LinearRegression, Lasso, Ridge, LogisticRegression, SGDRegressor\n",
        "from sklearn.tree import DecisionTreeRegressor\n",
        "from sklearn.ensemble import GradientBoostingRegressor, RandomForestRegressor\n",
        "from sklearn.dummy import DummyRegressor\n",
        "from sklearn.feature_selection import RFE, RFECV, SelectFromModel\n",
        "\n",
        "import xgboost as xgb\n",
        "from xgboost import plot_importance"
      ],
      "execution_count": null,
      "outputs": []
    },
    {
      "cell_type": "markdown",
      "metadata": {
        "id": "YZzH_WIKZnXg"
      },
      "source": [
        "# Import data"
      ]
    },
    {
      "cell_type": "markdown",
      "metadata": {
        "id": "ecjX56sCZnXh"
      },
      "source": [
        "## Train"
      ]
    },
    {
      "cell_type": "code",
      "metadata": {
        "id": "1zPHpZVjZnXh"
      },
      "source": [
        "data_path = 'C://Users//Tanya//Desktop//Sbermarket'"
      ],
      "execution_count": null,
      "outputs": []
    },
    {
      "cell_type": "code",
      "metadata": {
        "id": "6Z5eFFnYZnXk"
      },
      "source": [
        "file_1 = os.path.join(data_path, 'train/train.csv')\n",
        "train = pd.read_csv(file_1)"
      ],
      "execution_count": null,
      "outputs": []
    },
    {
      "cell_type": "code",
      "metadata": {
        "scrolled": true,
        "id": "cT7C-BeaZnXo"
      },
      "source": [
        "train.head(10)"
      ],
      "execution_count": null,
      "outputs": []
    },
    {
      "cell_type": "code",
      "metadata": {
        "id": "nlBWbuzIZnXt"
      },
      "source": [
        "train.tail()"
      ],
      "execution_count": null,
      "outputs": []
    },
    {
      "cell_type": "code",
      "metadata": {
        "scrolled": false,
        "id": "5dmJvyVHZnXw"
      },
      "source": [
        "train.shape"
      ],
      "execution_count": null,
      "outputs": []
    },
    {
      "cell_type": "code",
      "metadata": {
        "id": "Zb9Lh4_7ZnXz"
      },
      "source": [
        "train.sort_values(by=['phone_id', 'order_completed_at'], inplace = True)"
      ],
      "execution_count": null,
      "outputs": []
    },
    {
      "cell_type": "code",
      "metadata": {
        "id": "JynG6bd2ZnX2"
      },
      "source": [
        "train['Number_of_months_with_orders'] = train.groupby('phone_id')['target'].transform(np.sum)"
      ],
      "execution_count": null,
      "outputs": []
    },
    {
      "cell_type": "code",
      "metadata": {
        "id": "OS86n9bBZnX5"
      },
      "source": [
        "train['Number_of_months_overall'] = train.groupby('phone_id').transform(np.size)"
      ],
      "execution_count": null,
      "outputs": []
    },
    {
      "cell_type": "code",
      "metadata": {
        "id": "l_x4KT38ZnX8"
      },
      "source": [
        "train.groupby('phone_id')['order_completed_at'].first()"
      ],
      "execution_count": null,
      "outputs": []
    },
    {
      "cell_type": "code",
      "metadata": {
        "id": "G_I2ziK1ZnX_"
      },
      "source": [
        "\n",
        "train['Number_of_months_with_orders'].value_counts().plot(kind='bar')"
      ],
      "execution_count": null,
      "outputs": []
    },
    {
      "cell_type": "code",
      "metadata": {
        "id": "Vua0xnJpZnYC"
      },
      "source": [
        "train = train.assign(Latest_order = \\\n",
        "                     train.sort_values(['phone_id','order_completed_at'], ascending=False).groupby('phone_id')['order_completed_at'].last())"
      ],
      "execution_count": null,
      "outputs": []
    },
    {
      "cell_type": "code",
      "metadata": {
        "id": "Omk6lNl7ZnYG"
      },
      "source": [
        "train = train.assign(First_order = \\\n",
        "                     train.groupby('phone_id')['order_completed_at'].first())"
      ],
      "execution_count": null,
      "outputs": []
    },
    {
      "cell_type": "code",
      "metadata": {
        "id": "CU-XXcEfZnYI"
      },
      "source": [
        "train['Latest_order'] = train.groupby(['phone_id'])['order_completed_at'].last()"
      ],
      "execution_count": null,
      "outputs": []
    },
    {
      "cell_type": "markdown",
      "metadata": {
        "id": "rpaps5CSZnYM"
      },
      "source": [
        "## Inline"
      ]
    },
    {
      "cell_type": "code",
      "metadata": {
        "id": "5WohZ9GQZnYN"
      },
      "source": [
        "file_pattern = 'line_items*'"
      ],
      "execution_count": null,
      "outputs": []
    },
    {
      "cell_type": "code",
      "metadata": {
        "id": "vnAP1eghZnYP"
      },
      "source": [
        "files = glob.glob(os.path.join(data_path, file_pattern, file_pattern))\n",
        "files"
      ],
      "execution_count": null,
      "outputs": []
    },
    {
      "cell_type": "code",
      "metadata": {
        "scrolled": true,
        "id": "jdw80IE3ZnYR"
      },
      "source": [
        "line_items = pd.DataFrame()\n",
        "rows = []\n",
        "\n",
        "for file in files:\n",
        "    filename = file.split('\\\\')[-1]\n",
        "    print('\\nFile {0} is read in'.format(filename))\n",
        "\n",
        "    line_items_tmp = pd.read_csv(file)\n",
        "\n",
        "    rows += [line_items_tmp.shape[0]]\n",
        "    line_items = line_items.append(line_items_tmp, sort=True)\n",
        "\n",
        "# reset the index, so we do not have double indices (from the different files)\n",
        "line_items = line_items.reset_index(drop=True)"
      ],
      "execution_count": null,
      "outputs": []
    },
    {
      "cell_type": "code",
      "metadata": {
        "id": "PnX3vrEZZnYV"
      },
      "source": [
        "assert line_items.shape[0] == sum(rows)"
      ],
      "execution_count": null,
      "outputs": []
    },
    {
      "cell_type": "code",
      "metadata": {
        "id": "3vp3suHKZnYY"
      },
      "source": [
        "line_items.shape"
      ],
      "execution_count": null,
      "outputs": []
    },
    {
      "cell_type": "code",
      "metadata": {
        "id": "7XuavnoJZnYc"
      },
      "source": [
        "# Saving combined inline_items\n",
        "output_file = os.path.join(data_path, 'inline_items.pkl')\n",
        "\n",
        "print('Save output in {}..'.format(output_file))\n",
        "line_items.to_pickle(output_file)"
      ],
      "execution_count": null,
      "outputs": []
    },
    {
      "cell_type": "code",
      "metadata": {
        "scrolled": true,
        "id": "V388PUwVZnYg"
      },
      "source": [
        "line_items.head()"
      ],
      "execution_count": null,
      "outputs": []
    },
    {
      "cell_type": "code",
      "metadata": {
        "id": "HD0WM6MjZnYl"
      },
      "source": [
        "line_items.sort_values(by=['shipment_id'], inplace = True)"
      ],
      "execution_count": null,
      "outputs": []
    },
    {
      "cell_type": "code",
      "metadata": {
        "id": "nTtNH8nfZnYq"
      },
      "source": [
        "line_items[\"Sum_of_cancelled\"] = line_items.groupby(\"shipment_id\")[\"cancelled\"].transform(sum)"
      ],
      "execution_count": null,
      "outputs": []
    },
    {
      "cell_type": "code",
      "metadata": {
        "id": "OABivsCcZnYw"
      },
      "source": [
        "line_items[\"Sum_of_replaced\"] = line_items.groupby(\"shipment_id\")[\"replaced\"].transform(sum)"
      ],
      "execution_count": null,
      "outputs": []
    },
    {
      "cell_type": "code",
      "metadata": {
        "id": "tfe5MALRZnYz"
      },
      "source": [
        "line_items[\"Quantity\"] = line_items.groupby(\"shipment_id\")[\"quantity\"].transform(sum)"
      ],
      "execution_count": null,
      "outputs": []
    },
    {
      "cell_type": "code",
      "metadata": {
        "id": "YdJYI_RiZnY1"
      },
      "source": [
        "line_items.head(59)"
      ],
      "execution_count": null,
      "outputs": []
    },
    {
      "cell_type": "code",
      "metadata": {
        "id": "K8H-Qd6zZnY3"
      },
      "source": [
        "line_items_grouped = line_items.groupby(\"shipment_id\").first()"
      ],
      "execution_count": null,
      "outputs": []
    },
    {
      "cell_type": "code",
      "metadata": {
        "scrolled": true,
        "id": "QbJNQwCRZnY6"
      },
      "source": [
        "line_items_grouped.head()"
      ],
      "execution_count": null,
      "outputs": []
    },
    {
      "cell_type": "code",
      "metadata": {
        "id": "ijOnUluCZnZA"
      },
      "source": [
        "line_items_grouped.drop([\"cancelled\", \"price\", \"product_id\", \"quantity\", \"replaced\", \"brand_name\", \"cancelled\",\n",
        "                        \"discount\", \"item_id\", \"master_category_id\"], axis = 1, inplace = True)"
      ],
      "execution_count": null,
      "outputs": []
    },
    {
      "cell_type": "code",
      "metadata": {
        "id": "LIXVkrPiZnZC"
      },
      "source": [
        "line_items_grouped.drop([\"pricer\"], axis = 1, inplace = True)"
      ],
      "execution_count": null,
      "outputs": []
    },
    {
      "cell_type": "code",
      "metadata": {
        "scrolled": true,
        "id": "_8vgFIcDZnZE"
      },
      "source": [
        "line_items_grouped.head()"
      ],
      "execution_count": null,
      "outputs": []
    },
    {
      "cell_type": "code",
      "metadata": {
        "id": "2TvPpkZMZnZF"
      },
      "source": [
        "output_file = os.path.join(data_path, 'Shipments_items.csv')\n",
        "\n",
        "line_items_grouped.to_csv(output_file, sep = ';', index=False)"
      ],
      "execution_count": null,
      "outputs": []
    }
  ]
}
